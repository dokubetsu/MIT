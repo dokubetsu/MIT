{
 "cells": [
  {
   "cell_type": "code",
   "execution_count": null,
   "id": "c4e799f5",
   "metadata": {},
   "outputs": [],
   "source": [
    "Rishik Reddy Bandi\n",
    "3rd_Sem-B2-39\n",
    "220968300"
   ]
  },
  {
   "cell_type": "code",
   "execution_count": 1,
   "id": "38b02267",
   "metadata": {},
   "outputs": [],
   "source": [
    "import pandas as pd\n",
    "import numpy as mp\n",
    "import matplotlib.pyplot as plt\n",
    "import seaborn as sns\n",
    "\n",
    "df=pd.read_csv('matches.csv')\n",
    "df1=pd.read_csv('deliveries.csv')"
   ]
  },
  {
   "cell_type": "code",
   "execution_count": null,
   "id": "f3791075",
   "metadata": {},
   "outputs": [],
   "source": [
    "#1. Count the total number of matches conducted in the year 2008\n",
    "matches_2008=df[df['season']==2008]\n",
    "print(len(matches_2008))"
   ]
  },
  {
   "cell_type": "code",
   "execution_count": 4,
   "id": "a7ad1850",
   "metadata": {},
   "outputs": [
    {
     "name": "stdout",
     "output_type": "stream",
     "text": [
      "City where maximum matches were conducted: \n",
      "Mumbai\n",
      "\n",
      "\n",
      "City where minimum matches were conducted: \n",
      "('Bloemfontein', 'OUTsurance Oval')\n"
     ]
    }
   ],
   "source": [
    "#2. Find the city name where maximum and minimum number of matches conducted.\n",
    "\n",
    "print(\"City where maximum matches were conducted: \")\n",
    "max_matches=df.groupby(by='city').venue.count().idxmax()\n",
    "print(max_matches)\n",
    "print('\\n')\n",
    "print(\"City where minimum matches were conducted: \")\n",
    "min_matches=df.groupby('city')['venue'].value_counts().idxmin()\n",
    "print(min_matches)"
   ]
  },
  {
   "cell_type": "code",
   "execution_count": 6,
   "id": "966d4f13",
   "metadata": {},
   "outputs": [
    {
     "data": {
      "text/plain": [
       "'Mumbai'"
      ]
     },
     "execution_count": 6,
     "metadata": {},
     "output_type": "execute_result"
    }
   ],
   "source": [
    "#2\n",
    "df['city'].value_counts().idxmax()"
   ]
  },
  {
   "cell_type": "code",
   "execution_count": 7,
   "id": "0f965e86",
   "metadata": {},
   "outputs": [
    {
     "data": {
      "text/plain": [
       "'Bloemfontein'"
      ]
     },
     "execution_count": 7,
     "metadata": {},
     "output_type": "execute_result"
    }
   ],
   "source": [
    "#2\n",
    "df['city'].value_counts().idxmin()"
   ]
  },
  {
   "cell_type": "code",
   "execution_count": 8,
   "id": "03025d7b",
   "metadata": {},
   "outputs": [
    {
     "data": {
      "text/plain": [
       "Mumbai            101\n",
       "Kolkata            77\n",
       "Delhi              74\n",
       "Bangalore          66\n",
       "Hyderabad          64\n",
       "Chennai            57\n",
       "Jaipur             47\n",
       "Chandigarh         46\n",
       "Pune               38\n",
       "Durban             15\n",
       "Bengaluru          14\n",
       "Visakhapatnam      13\n",
       "Centurion          12\n",
       "Ahmedabad          12\n",
       "Rajkot             10\n",
       "Mohali             10\n",
       "Indore              9\n",
       "Dharamsala          9\n",
       "Johannesburg        8\n",
       "Cuttack             7\n",
       "Ranchi              7\n",
       "Port Elizabeth      7\n",
       "Cape Town           7\n",
       "Abu Dhabi           7\n",
       "Sharjah             6\n",
       "Raipur              6\n",
       "Kochi               5\n",
       "Kanpur              4\n",
       "Nagpur              3\n",
       "Kimberley           3\n",
       "East London         3\n",
       "Bloemfontein        2\n",
       "Name: city, dtype: int64"
      ]
     },
     "execution_count": 8,
     "metadata": {},
     "output_type": "execute_result"
    }
   ],
   "source": [
    "#3. Find total count of matches city wise\n",
    "df['city'].value_counts()"
   ]
  },
  {
   "cell_type": "code",
   "execution_count": 5,
   "id": "a0766779",
   "metadata": {},
   "outputs": [
    {
     "name": "stdout",
     "output_type": "stream",
     "text": [
      "Team with most toss wins: Mumbai Indians\n",
      "\n",
      "\n",
      "Team with least toss wins: Rising Pune Supergiant\n"
     ]
    }
   ],
   "source": [
    "#4. Find the Team which is maximum and minimum toss winner.\n",
    "\n",
    "max_toss=df['toss_winner'].value_counts().idxmax()\n",
    "print('Team with most toss wins:',max_toss)\n",
    "print('\\n')\n",
    "min_toss=df['toss_winner'].value_counts().idxmin()\n",
    "print('Team with least toss wins:',min_toss)"
   ]
  },
  {
   "cell_type": "code",
   "execution_count": 100,
   "id": "d19cbafd",
   "metadata": {},
   "outputs": [
    {
     "name": "stdout",
     "output_type": "stream",
     "text": [
      "toss_winner                  toss_decision\n",
      "Chennai Super Kings          bat              48\n",
      "                             field            41\n",
      "Deccan Chargers              bat              24\n",
      "                             field            19\n",
      "Delhi Capitals               field             8\n",
      "                             bat               2\n",
      "Delhi Daredevils             field            51\n",
      "                             bat              29\n",
      "Gujarat Lions                field            14\n",
      "                             bat               1\n",
      "Kings XI Punjab              field            55\n",
      "                             bat              26\n",
      "Kochi Tuskers Kerala         field             5\n",
      "                             bat               3\n",
      "Kolkata Knight Riders        field            62\n",
      "                             bat              30\n",
      "Mumbai Indians               field            54\n",
      "                             bat              44\n",
      "Pune Warriors                bat              11\n",
      "                             field             9\n",
      "Rajasthan Royals             field            48\n",
      "                             bat              32\n",
      "Rising Pune Supergiant       field             6\n",
      "Rising Pune Supergiants      field             4\n",
      "                             bat               3\n",
      "Royal Challengers Bangalore  field            61\n",
      "                             bat              20\n",
      "Sunrisers Hyderabad          field            26\n",
      "                             bat              20\n",
      "Name: toss_decision, dtype: int64\n"
     ]
    }
   ],
   "source": [
    "#5. Check the toss decision that the team has taken.\n",
    "toss_decisions=df.groupby('toss_winner')['toss_decision'].value_counts()\n",
    "print(toss_decisions)"
   ]
  },
  {
   "cell_type": "code",
   "execution_count": 9,
   "id": "55336079",
   "metadata": {},
   "outputs": [
    {
     "data": {
      "text/plain": [
       "field    463\n",
       "bat      293\n",
       "Name: toss_decision, dtype: int64"
      ]
     },
     "execution_count": 9,
     "metadata": {},
     "output_type": "execute_result"
    }
   ],
   "source": [
    "#5\n",
    "df['toss_decision'].value_counts()"
   ]
  },
  {
   "cell_type": "code",
   "execution_count": 102,
   "id": "89a4ac5b",
   "metadata": {},
   "outputs": [
    {
     "name": "stdout",
     "output_type": "stream",
     "text": [
      "normal       743\n",
      "tie            9\n",
      "no result      4\n",
      "Name: result, dtype: int64\n"
     ]
    }
   ],
   "source": [
    "#6. Count the total number of normal and tie matches.\n",
    "result_type=df['result'].value_counts()\n",
    "print(result_type)"
   ]
  },
  {
   "cell_type": "code",
   "execution_count": 13,
   "id": "953f1317",
   "metadata": {},
   "outputs": [
    {
     "data": {
      "text/html": [
       "<div>\n",
       "<style scoped>\n",
       "    .dataframe tbody tr th:only-of-type {\n",
       "        vertical-align: middle;\n",
       "    }\n",
       "\n",
       "    .dataframe tbody tr th {\n",
       "        vertical-align: top;\n",
       "    }\n",
       "\n",
       "    .dataframe thead th {\n",
       "        text-align: right;\n",
       "    }\n",
       "</style>\n",
       "<table border=\"1\" class=\"dataframe\">\n",
       "  <thead>\n",
       "    <tr style=\"text-align: right;\">\n",
       "      <th></th>\n",
       "      <th>team1</th>\n",
       "      <th>team2</th>\n",
       "    </tr>\n",
       "  </thead>\n",
       "  <tbody>\n",
       "    <tr>\n",
       "      <th>33</th>\n",
       "      <td>Gujarat Lions</td>\n",
       "      <td>Mumbai Indians</td>\n",
       "    </tr>\n",
       "    <tr>\n",
       "      <th>125</th>\n",
       "      <td>Rajasthan Royals</td>\n",
       "      <td>Kolkata Knight Riders</td>\n",
       "    </tr>\n",
       "    <tr>\n",
       "      <th>189</th>\n",
       "      <td>Kings XI Punjab</td>\n",
       "      <td>Chennai Super Kings</td>\n",
       "    </tr>\n",
       "    <tr>\n",
       "      <th>387</th>\n",
       "      <td>Royal Challengers Bangalore</td>\n",
       "      <td>Sunrisers Hyderabad</td>\n",
       "    </tr>\n",
       "    <tr>\n",
       "      <th>400</th>\n",
       "      <td>Delhi Daredevils</td>\n",
       "      <td>Royal Challengers Bangalore</td>\n",
       "    </tr>\n",
       "    <tr>\n",
       "      <th>475</th>\n",
       "      <td>Rajasthan Royals</td>\n",
       "      <td>Kolkata Knight Riders</td>\n",
       "    </tr>\n",
       "    <tr>\n",
       "      <th>535</th>\n",
       "      <td>Rajasthan Royals</td>\n",
       "      <td>Kings XI Punjab</td>\n",
       "    </tr>\n",
       "    <tr>\n",
       "      <th>705</th>\n",
       "      <td>Kolkata Knight Riders</td>\n",
       "      <td>Delhi Capitals</td>\n",
       "    </tr>\n",
       "    <tr>\n",
       "      <th>746</th>\n",
       "      <td>Mumbai Indians</td>\n",
       "      <td>Sunrisers Hyderabad</td>\n",
       "    </tr>\n",
       "  </tbody>\n",
       "</table>\n",
       "</div>"
      ],
      "text/plain": [
       "                           team1                        team2\n",
       "33                 Gujarat Lions               Mumbai Indians\n",
       "125             Rajasthan Royals        Kolkata Knight Riders\n",
       "189              Kings XI Punjab          Chennai Super Kings\n",
       "387  Royal Challengers Bangalore          Sunrisers Hyderabad\n",
       "400             Delhi Daredevils  Royal Challengers Bangalore\n",
       "475             Rajasthan Royals        Kolkata Knight Riders\n",
       "535             Rajasthan Royals              Kings XI Punjab\n",
       "705        Kolkata Knight Riders               Delhi Capitals\n",
       "746               Mumbai Indians          Sunrisers Hyderabad"
      ]
     },
     "execution_count": 13,
     "metadata": {},
     "output_type": "execute_result"
    }
   ],
   "source": [
    "#7. Find the team names where the match result is tie.\n",
    "tie_matches = df[df['result'] == 'tie']\n",
    "tie_matches[['team1', 'team2']]"
   ]
  },
  {
   "cell_type": "code",
   "execution_count": 9,
   "id": "3936ed05",
   "metadata": {},
   "outputs": [
    {
     "data": {
      "text/plain": [
       "'Mumbai Indians'"
      ]
     },
     "execution_count": 9,
     "metadata": {},
     "output_type": "execute_result"
    }
   ],
   "source": [
    "#8. Find the team name who won the match by highest runs.\n",
    "\n",
    "df.groupby('winner')['win_by_runs'].count().idxmax()"
   ]
  },
  {
   "cell_type": "code",
   "execution_count": 10,
   "id": "7b0e8a46",
   "metadata": {},
   "outputs": [
    {
     "data": {
      "text/plain": [
       "146"
      ]
     },
     "execution_count": 10,
     "metadata": {},
     "output_type": "execute_result"
    }
   ],
   "source": [
    "#8\n",
    "df['win_by_runs'].max()"
   ]
  },
  {
   "cell_type": "code",
   "execution_count": 14,
   "id": "a1d1fb14",
   "metadata": {},
   "outputs": [
    {
     "name": "stdout",
     "output_type": "stream",
     "text": [
      "1\n"
     ]
    },
    {
     "data": {
      "text/plain": [
       "58                  Mumbai Indians\n",
       "105                Kings XI Punjab\n",
       "163                Kings XI Punjab\n",
       "344               Delhi Daredevils\n",
       "350                 Mumbai Indians\n",
       "518            Chennai Super Kings\n",
       "598                  Gujarat Lions\n",
       "614    Royal Challengers Bangalore\n",
       "734    Royal Challengers Bangalore\n",
       "755                 Mumbai Indians\n",
       "Name: winner, dtype: object"
      ]
     },
     "execution_count": 14,
     "metadata": {},
     "output_type": "execute_result"
    }
   ],
   "source": [
    "#9. Find the team name who won the match by lowest runs\n",
    "\n",
    "win_by_lowest=df['win_by_runs'].mask(df['win_by_runs']==0,20)\n",
    "min=win_by_lowest.min()\n",
    "df[df['win_by_runs']==min]['winner']"
   ]
  },
  {
   "cell_type": "code",
   "execution_count": 25,
   "id": "3805c411",
   "metadata": {},
   "outputs": [
    {
     "name": "stdout",
     "output_type": "stream",
     "text": [
      "CH Gayle          21\n",
      "AB de Villiers    20\n",
      "RG Sharma         17\n",
      "MS Dhoni          17\n",
      "DA Warner         17\n",
      "                  ..\n",
      "SK Warne           4\n",
      "CA Lynn            4\n",
      "SS Iyer            4\n",
      "ML Hayden          4\n",
      "KH Pandya          4\n",
      "Name: player_of_match, Length: 65, dtype: int64\n"
     ]
    }
   ],
   "source": [
    "#10. Find the players who was awarded “Player of the match” more than 3 times.\n",
    "top_players=df['player_of_match'].value_counts()\n",
    "top_players=top_players[top_players>3]\n",
    "print(top_players)"
   ]
  },
  {
   "cell_type": "code",
   "execution_count": 27,
   "id": "0af0fb54",
   "metadata": {},
   "outputs": [
    {
     "data": {
      "text/plain": [
       "'CH Gayle'"
      ]
     },
     "execution_count": 27,
     "metadata": {},
     "output_type": "execute_result"
    }
   ],
   "source": [
    "#11. Find the player who was awarded as player of the match maximum times.\n",
    "df['player_of_match'].value_counts().idxmax()"
   ]
  },
  {
   "cell_type": "code",
   "execution_count": 37,
   "id": "9ee155c1",
   "metadata": {},
   "outputs": [
    {
     "data": {
      "text/plain": [
       "'Feroz Shah Kotla'"
      ]
     },
     "execution_count": 37,
     "metadata": {},
     "output_type": "execute_result"
    }
   ],
   "source": [
    "#12. Find the Venue where the team won the match by highest runs.\n",
    "\n",
    "df.groupby('venue')['win_by_runs'].max().idxmax()"
   ]
  },
  {
   "cell_type": "code",
   "execution_count": 36,
   "id": "fb077b2e",
   "metadata": {},
   "outputs": [
    {
     "data": {
      "text/plain": [
       "'Feroz Shah Kotla'"
      ]
     },
     "execution_count": 36,
     "metadata": {},
     "output_type": "execute_result"
    }
   ],
   "source": [
    "#12\n",
    "df.loc[df['win_by_runs'].idxmax()]['venue']"
   ]
  },
  {
   "cell_type": "code",
   "execution_count": 38,
   "id": "63780b8a",
   "metadata": {},
   "outputs": [
    {
     "data": {
      "text/plain": [
       "'ACA-VDCA Stadium'"
      ]
     },
     "execution_count": 38,
     "metadata": {},
     "output_type": "execute_result"
    }
   ],
   "source": [
    "#13. Find the Venue where the team won the match by lowest runs.\n",
    "df.groupby('venue')['win_by_runs'].min().idxmin()"
   ]
  },
  {
   "cell_type": "code",
   "execution_count": 19,
   "id": "6cd9ed80",
   "metadata": {},
   "outputs": [
    {
     "data": {
      "text/plain": [
       "0"
      ]
     },
     "execution_count": 19,
     "metadata": {},
     "output_type": "execute_result"
    }
   ],
   "source": [
    "#13\n",
    "df['win_by_runs'].min()"
   ]
  },
  {
   "cell_type": "code",
   "execution_count": 21,
   "id": "155d8111",
   "metadata": {},
   "outputs": [
    {
     "name": "stdout",
     "output_type": "stream",
     "text": [
      "For umpire1 maximum is : \n",
      "HDPK Dharmasena\n",
      "For umpire2 maximum is : \n",
      "C Shamshuddin\n",
      "For umpire3 maximum is : \n",
      "Nitin Menon\n"
     ]
    }
   ],
   "source": [
    "#14. Find the Umpires who did umpiring maximum times\n",
    "for umpire in ['umpire1','umpire2','umpire3']:\n",
    "    print(\"For \"+umpire+\" maximum is : \") \n",
    "    print(df[umpire].value_counts().idxmax()) "
   ]
  },
  {
   "cell_type": "code",
   "execution_count": 64,
   "id": "3fac1b3c",
   "metadata": {},
   "outputs": [
    {
     "name": "stdout",
     "output_type": "stream",
     "text": [
      "2013    76\n",
      "2012    74\n",
      "2011    73\n",
      "2010    60\n",
      "2014    60\n",
      "2016    60\n",
      "2018    60\n",
      "2019    60\n",
      "2017    59\n",
      "2015    59\n",
      "2008    58\n",
      "2009    57\n",
      "Name: season, dtype: int64\n"
     ]
    }
   ],
   "source": [
    "#15. Find the Total matches played in each season\n",
    "match_count = df['season'].value_counts()\n",
    "print(match_count)"
   ]
  },
  {
   "cell_type": "code",
   "execution_count": 23,
   "id": "41b58faf",
   "metadata": {},
   "outputs": [
    {
     "data": {
      "text/plain": [
       "season\n",
       "2008    17937\n",
       "2009    16353\n",
       "2010    18883\n",
       "2011    21154\n",
       "2012    22453\n",
       "2013    22602\n",
       "2014    18931\n",
       "2015    18353\n",
       "2016    18862\n",
       "2017    18786\n",
       "2018    20706\n",
       "2019    20270\n",
       "Name: total_runs, dtype: int64"
      ]
     },
     "execution_count": 23,
     "metadata": {},
     "output_type": "execute_result"
    }
   ],
   "source": [
    "#16. Find the Total runs in each season\n",
    "combined_dataset=df[['id', 'season']].merge(df1, left_on='id', right_on='match_id', how='left')#combining to calulate total runs as first data set has no column total runs and 2nd dataset has no column season\n",
    "combined_dataset.groupby(['season'])['total_runs'].sum()"
   ]
  },
  {
   "cell_type": "code",
   "execution_count": 66,
   "id": "b8ed5359",
   "metadata": {},
   "outputs": [
    {
     "data": {
      "text/plain": [
       "Mumbai Indians                 98\n",
       "Kolkata Knight Riders          92\n",
       "Chennai Super Kings            89\n",
       "Royal Challengers Bangalore    81\n",
       "Kings XI Punjab                81\n",
       "Delhi Daredevils               80\n",
       "Rajasthan Royals               80\n",
       "Sunrisers Hyderabad            46\n",
       "Deccan Chargers                43\n",
       "Pune Warriors                  20\n",
       "Gujarat Lions                  15\n",
       "Delhi Capitals                 10\n",
       "Kochi Tuskers Kerala            8\n",
       "Rising Pune Supergiants         7\n",
       "Rising Pune Supergiant          6\n",
       "Name: toss_winner, dtype: int64"
      ]
     },
     "execution_count": 66,
     "metadata": {},
     "output_type": "execute_result"
    }
   ],
   "source": [
    "#17. No. of tosses won by each team\n",
    "df['toss_winner'].value_counts()"
   ]
  },
  {
   "cell_type": "code",
   "execution_count": 11,
   "id": "2b3fb333",
   "metadata": {
    "scrolled": true
   },
   "outputs": [
    {
     "data": {
      "image/png": "[encoded data removed]",
      "text/plain": [
       "<Figure size 640x480 with 1 Axes>"
      ]
     },
     "metadata": {},
     "output_type": "display_data"
    }
   ],
   "source": [
    "#18. Visualize the Toss decision across seasons\n",
    "\n",
    "sns.countplot(x='season', hue='toss_decision', data=df)\n",
    "plt.xlabel('Season')\n",
    "plt.ylabel('Count')\n",
    "plt.title('Toss Decision Across Seasons')\n",
    "plt.show()"
   ]
  },
  {
   "cell_type": "code",
   "execution_count": 5,
   "id": "3f3d25f3",
   "metadata": {},
   "outputs": [
    {
     "data": {
      "image/png": "[encoded data removed]",
      "text/plain": [
       "<Figure size 1500x1000 with 1 Axes>"
      ]
     },
     "metadata": {},
     "output_type": "display_data"
    }
   ],
   "source": [
    "#19. Find the Dismissal Kind and Visualize using best fit graph\n",
    "\n",
    "dismissal_kind_counts = df1['dismissal_kind'].value_counts()\n",
    "plt.figure(figsize=(15, 10))\n",
    "sns.barplot(x=dismissal_kind_counts.index, y=dismissal_kind_counts.values)\n",
    "plt.xlabel('Dismissal Kind')\n",
    "plt.ylabel('Count')\n",
    "plt.title('Dismissal Kind Distribution')\n",
    "plt.show()"
   ]
  },
  {
   "cell_type": "code",
   "execution_count": 24,
   "id": "59ab1758",
   "metadata": {},
   "outputs": [
    {
     "name": "stdout",
     "output_type": "stream",
     "text": [
      "batsman\n",
      "SK Raina          5651\n",
      "V Kohli           5616\n",
      "RG Sharma         5057\n",
      "DA Warner         4975\n",
      "S Dhawan          4876\n",
      "CH Gayle          4873\n",
      "RV Uthappa        4703\n",
      "MS Dhoni          4691\n",
      "AB de Villiers    4583\n",
      "G Gambhir         4485\n",
      "Name: total_runs, dtype: int64\n"
     ]
    },
    {
     "data": {
      "image/png": "[encoded data removed]",
      "text/plain": [
       "<Figure size 640x480 with 1 Axes>"
      ]
     },
     "metadata": {},
     "output_type": "display_data"
    }
   ],
   "source": [
    "#20. Find the Top 10 run scorers in IPL and Visualize using best fit graph\n",
    "\n",
    "top_scorers = df1.groupby('batsman')['total_runs'].sum().nlargest(10)\n",
    "print(top_scorers)\n",
    "sns.barplot(x=top_scorers.index, y=top_scorers.values)\n",
    "plt.xlabel('Batsman')\n",
    "plt.ylabel('Total Runs')\n",
    "plt.title('Top 10 Run Scorers in IPL')\n",
    "plt.xticks(rotation=90)\n",
    "plt.show()"
   ]
  },
  {
   "cell_type": "code",
   "execution_count": 88,
   "id": "348cf2f5",
   "metadata": {},
   "outputs": [
    {
     "data": {
      "image/png": "[encoded data removed]",
      "text/plain": [
       "<Figure size 1500x1000 with 1 Axes>"
      ]
     },
     "metadata": {},
     "output_type": "display_data"
    }
   ],
   "source": [
    "#21. Visualize the Highest MOM award winners\n",
    "\n",
    "mom_counts = df['player_of_match'].value_counts().nlargest(10)\n",
    "plt.figure(figsize=(15, 10))\n",
    "sns.barplot(x=mom_counts.index, y=mom_counts.values)\n",
    "plt.xlabel('Player')\n",
    "plt.ylabel('Count')\n",
    "plt.title('Highest MOM Award Winners')\n",
    "plt.show()"
   ]
  },
  {
   "cell_type": "code",
   "execution_count": 14,
   "id": "8e48147c",
   "metadata": {},
   "outputs": [
    {
     "name": "stdout",
     "output_type": "stream",
     "text": [
      "Mumbai Indians                 187\n",
      "Royal Challengers Bangalore    180\n",
      "Kolkata Knight Riders          178\n",
      "Kings XI Punjab                176\n",
      "Chennai Super Kings            164\n",
      "Delhi Daredevils               161\n",
      "Rajasthan Royals               147\n",
      "Sunrisers Hyderabad            108\n",
      "Deccan Chargers                 75\n",
      "Pune Warriors                   46\n",
      "Gujarat Lions                   30\n",
      "Rising Pune Supergiant          16\n",
      "Delhi Capitals                  16\n",
      "Kochi Tuskers Kerala            14\n",
      "Rising Pune Supergiants         14\n",
      "dtype: int64\n"
     ]
    },
    {
     "name": "stderr",
     "output_type": "stream",
     "text": [
      "C:\\Users\\rrban\\AppData\\Local\\Temp\\ipykernel_16372\\1600623971.py:3: FutureWarning: The series.append method is deprecated and will be removed from pandas in a future version. Use pandas.concat instead.\n",
      "  total_matches_played = df['team1'].append(df['team2']).value_counts()\n"
     ]
    }
   ],
   "source": [
    "#22. Find Total Number of Played Matches by each team\n",
    "\n",
    "total_matches_played = df['team1'].append(df['team2']).value_counts()\n",
    "print(total_matches_played)"
   ]
  },
  {
   "cell_type": "code",
   "execution_count": 54,
   "id": "57fe617c",
   "metadata": {},
   "outputs": [
    {
     "name": "stdout",
     "output_type": "stream",
     "text": [
      "                             Total Played Matches  Winning Matches  \\\n",
      "Chennai Super Kings                           164             51.0   \n",
      "Deccan Chargers                                75             18.0   \n",
      "Delhi Capitals                                 16              3.0   \n",
      "Delhi Daredevils                              161             25.0   \n",
      "Gujarat Lions                                  30              1.0   \n",
      "Kings XI Punjab                               176             38.0   \n",
      "Kochi Tuskers Kerala                           14              2.0   \n",
      "Kolkata Knight Riders                         178             34.0   \n",
      "Mumbai Indians                                187             58.0   \n",
      "Pune Warriors                                  46              6.0   \n",
      "Rajasthan Royals                              147             29.0   \n",
      "Rising Pune Supergiant                         16              5.0   \n",
      "Rising Pune Supergiants                        14              NaN   \n",
      "Royal Challengers Bangalore                   180             35.0   \n",
      "Sunrisers Hyderabad                           108             30.0   \n",
      "\n",
      "                             Win Rate (%)  \n",
      "Chennai Super Kings             31.097561  \n",
      "Deccan Chargers                 24.000000  \n",
      "Delhi Capitals                  18.750000  \n",
      "Delhi Daredevils                15.527950  \n",
      "Gujarat Lions                    3.333333  \n",
      "Kings XI Punjab                 21.590909  \n",
      "Kochi Tuskers Kerala            14.285714  \n",
      "Kolkata Knight Riders           19.101124  \n",
      "Mumbai Indians                  31.016043  \n",
      "Pune Warriors                   13.043478  \n",
      "Rajasthan Royals                19.727891  \n",
      "Rising Pune Supergiant          31.250000  \n",
      "Rising Pune Supergiants               NaN  \n",
      "Royal Challengers Bangalore     19.444444  \n",
      "Sunrisers Hyderabad             27.777778  \n"
     ]
    },
    {
     "name": "stderr",
     "output_type": "stream",
     "text": [
      "C:\\Users\\rrban\\AppData\\Local\\Temp\\ipykernel_16372\\4116195198.py:9: FutureWarning: The series.append method is deprecated and will be removed from pandas in a future version. Use pandas.concat instead.\n",
      "  total_matches_played = df['team1'].append(df['team2']).value_counts()\n"
     ]
    }
   ],
   "source": [
    "#23. Compare Total Played Matches vs Winning Matches vs Win Rate\n",
    "\n",
    "df=pd.read_csv('matches.csv')\n",
    "df1=pd.read_csv('deliveries.csv')\n",
    "total_matches_played = df['team1'].append(df['team2']).value_counts()\n",
    "winning_matches = df[df['team1'] == df['winner']]['team1'].value_counts()\n",
    "win_rate = (winning_teams / total_matches_played) * 100\n",
    "comparison_data = pd.DataFrame(\n",
    "    {\n",
    "    'Total Played Matches': total_matches_played,\n",
    "    'Winning Matches': winning_matches,\n",
    "    'Win Rate (%)': win_rate\n",
    "    }\n",
    ")\n",
    "print(comparison_data)"
   ]
  },
  {
   "cell_type": "code",
   "execution_count": 87,
   "id": "30870934",
   "metadata": {
    "scrolled": true
   },
   "outputs": [
    {
     "data": {
      "image/png": "[encoded data removed]",
      "text/plain": [
       "<Figure size 3000x2000 with 1 Axes>"
      ]
     },
     "metadata": {},
     "output_type": "display_data"
    }
   ],
   "source": [
    "#24. Find the Distribution of Won the Matches\n",
    "\n",
    "plt.figure(figsize=(30, 20))\n",
    "sns.countplot(x='winner', data=df) \n",
    "plt.xlabel('Team')\n",
    "plt.ylabel('Wins')\n",
    "plt.title('Distribution of Matches Won by Each Team')\n",
    "plt.show()"
   ]
  },
  {
   "cell_type": "code",
   "execution_count": 64,
   "id": "c2183bc2",
   "metadata": {},
   "outputs": [
    {
     "data": {
      "text/plain": [
       "Mumbai Indians                 109\n",
       "Chennai Super Kings            100\n",
       "Kolkata Knight Riders           92\n",
       "Royal Challengers Bangalore     84\n",
       "Kings XI Punjab                 82\n",
       "Rajasthan Royals                75\n",
       "Delhi Daredevils                67\n",
       "Sunrisers Hyderabad             58\n",
       "Deccan Chargers                 29\n",
       "Gujarat Lions                   13\n",
       "Pune Warriors                   12\n",
       "Rising Pune Supergiant          10\n",
       "Delhi Capitals                  10\n",
       "Kochi Tuskers Kerala             6\n",
       "Rising Pune Supergiants          5\n",
       "Name: winner, dtype: int64"
      ]
     },
     "execution_count": 64,
     "metadata": {},
     "output_type": "execute_result"
    }
   ],
   "source": [
    "df['winner'].value_counts()"
   ]
  },
  {
   "cell_type": "code",
   "execution_count": 114,
   "id": "f77a1610",
   "metadata": {},
   "outputs": [
    {
     "name": "stdout",
     "output_type": "stream",
     "text": [
      "Chennai Super Kings            0.310976\n",
      "Deccan Chargers                0.240000\n",
      "Delhi Capitals                 0.187500\n",
      "Delhi Daredevils               0.155280\n",
      "Gujarat Lions                  0.033333\n",
      "Kings XI Punjab                0.215909\n",
      "Kochi Tuskers Kerala           0.142857\n",
      "Kolkata Knight Riders          0.191011\n",
      "Mumbai Indians                 0.310160\n",
      "Pune Warriors                  0.130435\n",
      "Rajasthan Royals               0.197279\n",
      "Rising Pune Supergiant         0.312500\n",
      "Rising Pune Supergiants             NaN\n",
      "Royal Challengers Bangalore    0.194444\n",
      "Sunrisers Hyderabad            0.277778\n",
      "dtype: float64\n"
     ]
    }
   ],
   "source": [
    "#25. Ratio between Total Matches and Win Matches\n",
    "\n",
    "winning_teams = df[df['team1'] == df['winner']]['team1'].value_counts()\n",
    "total_matches = total_matches_played\n",
    "win_matches = winning_teams\n",
    "print(win_matches/total_matches)"
   ]
  },
  {
   "cell_type": "code",
   "execution_count": 82,
   "id": "689bcc9b",
   "metadata": {},
   "outputs": [
    {
     "name": "stdout",
     "output_type": "stream",
     "text": [
      "toss_winner                  toss_decision\n",
      "Chennai Super Kings          bat              48\n",
      "                             field            41\n",
      "Deccan Chargers              bat              24\n",
      "                             field            19\n",
      "Delhi Capitals               field             8\n",
      "                             bat               2\n",
      "Delhi Daredevils             field            51\n",
      "                             bat              29\n",
      "Gujarat Lions                field            14\n",
      "                             bat               1\n",
      "Kings XI Punjab              field            55\n",
      "                             bat              26\n",
      "Kochi Tuskers Kerala         field             5\n",
      "                             bat               3\n",
      "Kolkata Knight Riders        field            62\n",
      "                             bat              30\n",
      "Mumbai Indians               field            54\n",
      "                             bat              44\n",
      "Pune Warriors                bat              11\n",
      "                             field             9\n",
      "Rajasthan Royals             field            48\n",
      "                             bat              32\n",
      "Rising Pune Supergiant       field             6\n",
      "Rising Pune Supergiants      field             4\n",
      "                             bat               3\n",
      "Royal Challengers Bangalore  field            61\n",
      "                             bat              20\n",
      "Sunrisers Hyderabad          field            26\n",
      "                             bat              20\n",
      "Name: toss_decision, dtype: int64\n"
     ]
    }
   ],
   "source": [
    "#26. What is the choice of each team after winning the toss?\n",
    "toss_decisions=df.groupby('toss_winner')['toss_decision'].value_counts()\n",
    "print(toss_decisions)"
   ]
  },
  {
   "cell_type": "code",
   "execution_count": null,
   "id": "aaa35839",
   "metadata": {},
   "outputs": [],
   "source": []
  }
 ],
 "metadata": {
  "kernelspec": {
   "display_name": "Python 3 (ipykernel)",
   "language": "python",
   "name": "python3"
  },
  "language_info": {
   "codemirror_mode": {
    "name": "ipython",
    "version": 3
   },
   "file_extension": ".py",
   "mimetype": "text/x-python",
   "name": "python",
   "nbconvert_exporter": "python",
   "pygments_lexer": "ipython3",
   "version": "3.11.4"
  }
 },
 "nbformat": 4,
 "nbformat_minor": 5
}
