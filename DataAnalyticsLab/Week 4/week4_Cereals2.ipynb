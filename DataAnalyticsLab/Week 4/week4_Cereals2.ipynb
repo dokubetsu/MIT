{
 "cells": [
  {
   "cell_type": "code",
   "execution_count": null,
   "id": "642538fb",
   "metadata": {},
   "outputs": [],
   "source": [
    "Rishik Reddy Bandi\n",
    "3rd_Sem-B2-39\n",
    "220968300"
   ]
  },
  {
   "cell_type": "code",
   "execution_count": 9,
   "id": "1271a420",
   "metadata": {},
   "outputs": [],
   "source": [
    "import pandas as pd\n",
    "import numpy as mp\n",
    "import matplotlib.pyplot as plt\n",
    "import seaborn as sns\n",
    "import scipy.stats as stats\n",
    "\n",
    "df=pd.read_excel('Cereals1.xls')"
   ]
  },
  {
   "cell_type": "code",
   "execution_count": null,
   "id": "a1c8fdab",
   "metadata": {},
   "outputs": [],
   "source": [
    "#1. Cross tabulate the type of cereal (hot vs cold) against the manufacturer\n",
    "crosstab_hc=pd.crosstab(df.type,df.mfr)\n",
    "print(crosstab_hc)"
   ]
  },
  {
   "cell_type": "code",
   "execution_count": 6,
   "id": "fcb42a4a",
   "metadata": {},
   "outputs": [
    {
     "name": "stdout",
     "output_type": "stream",
     "text": [
      "Best Rating:\n",
      "                        name mfr type  calories  protein  fat  sodium  fiber  \\\n",
      "2  All-Bran_with_Extra_Fiber   K    C        50        4    0     140   14.0   \n",
      "\n",
      "   carbo  sugars  potass  vitamins  shelf  weight  cups     rating  \n",
      "2    8.0       0     330        25      3     1.0   0.5  93.704912  \n",
      "\n",
      "\n",
      "\n",
      "\n",
      "\n",
      "\n",
      "\n",
      "Worst Rating:\n",
      "           name mfr type  calories  protein  fat  sodium  fiber  carbo  \\\n",
      "9  Cap'n'Crunch   Q    C       120        1    2     220    0.0   12.0   \n",
      "\n",
      "   sugars  potass  vitamins  shelf  weight  cups     rating  \n",
      "9      12      35        25      2     1.0  0.75  18.042851  \n"
     ]
    }
   ],
   "source": [
    "#2. Which is the cereal with the best rating, worst rating?\n",
    "\n",
    "print('Best Rating:')\n",
    "best_rating=df[df['rating']==df['rating'].max()]\n",
    "print(best_rating)\n",
    "\n",
    "print('\\n\\n\\n\\n\\n\\n')\n",
    "\n",
    "print('Worst Rating:')\n",
    "worst_rating=df[df['rating']==df['rating'].min()]\n",
    "print(worst_rating)"
   ]
  },
  {
   "cell_type": "code",
   "execution_count": 10,
   "id": "dae72532",
   "metadata": {},
   "outputs": [
    {
     "data": {
      "text/plain": [
       "name        All-Bran_with_Extra_Fiber\n",
       "mfr                                 K\n",
       "type                                C\n",
       "calories                           50\n",
       "protein                             4\n",
       "fat                                 0\n",
       "sodium                            140\n",
       "fiber                            14.0\n",
       "carbo                             8.0\n",
       "sugars                              0\n",
       "potass                            330\n",
       "vitamins                           25\n",
       "shelf                               3\n",
       "weight                            1.0\n",
       "cups                              0.5\n",
       "rating                      93.704912\n",
       "Name: 2, dtype: object"
      ]
     },
     "execution_count": 10,
     "metadata": {},
     "output_type": "execute_result"
    }
   ],
   "source": [
    "df.loc[df['rating'].idxmax()]"
   ]
  },
  {
   "cell_type": "code",
   "execution_count": 12,
   "id": "62dd337e",
   "metadata": {},
   "outputs": [
    {
     "data": {
      "text/plain": [
       "name        Cap'n'Crunch\n",
       "mfr                    Q\n",
       "type                   C\n",
       "calories             120\n",
       "protein                1\n",
       "fat                    2\n",
       "sodium               220\n",
       "fiber                0.0\n",
       "carbo               12.0\n",
       "sugars                12\n",
       "potass                35\n",
       "vitamins              25\n",
       "shelf                  2\n",
       "weight               1.0\n",
       "cups                0.75\n",
       "rating         18.042851\n",
       "Name: 9, dtype: object"
      ]
     },
     "execution_count": 12,
     "metadata": {},
     "output_type": "execute_result"
    }
   ],
   "source": [
    "df.loc[df['rating'].idxmin()]"
   ]
  },
  {
   "cell_type": "code",
   "execution_count": 14,
   "id": "96d431ef",
   "metadata": {},
   "outputs": [
    {
     "data": {
      "image/png": "[encoded data removed]",
      "text/plain": [
       "<Figure size 640x480 with 1 Axes>"
      ]
     },
     "metadata": {},
     "output_type": "display_data"
    }
   ],
   "source": [
    "#3. Plot a side-by-side boxplot comparing the consumer rating of hot vs. cold cereals. \n",
    "sns.boxplot(x='rating',y='type',data=df)\n",
    "plt.xlabel('Consumer Rating')\n",
    "plt.ylabel('Cereal Type')\n",
    "plt.title('Consumer Rating of Hot vs. Cold Cereals')\n",
    "plt.show()"
   ]
  },
  {
   "cell_type": "code",
   "execution_count": 18,
   "id": "b67ec73e",
   "metadata": {},
   "outputs": [
    {
     "data": {
      "text/html": [
       "<div>\n",
       "<style scoped>\n",
       "    .dataframe tbody tr th:only-of-type {\n",
       "        vertical-align: middle;\n",
       "    }\n",
       "\n",
       "    .dataframe tbody tr th {\n",
       "        vertical-align: top;\n",
       "    }\n",
       "\n",
       "    .dataframe thead th {\n",
       "        text-align: right;\n",
       "    }\n",
       "</style>\n",
       "<table border=\"1\" class=\"dataframe\">\n",
       "  <thead>\n",
       "    <tr style=\"text-align: right;\">\n",
       "      <th></th>\n",
       "      <th>sugars</th>\n",
       "      <th>calories</th>\n",
       "      <th>carbo</th>\n",
       "      <th>fat</th>\n",
       "    </tr>\n",
       "  </thead>\n",
       "  <tbody>\n",
       "    <tr>\n",
       "      <th>sugars</th>\n",
       "      <td>1.000000</td>\n",
       "      <td>0.571072</td>\n",
       "      <td>-0.349902</td>\n",
       "      <td>0.270861</td>\n",
       "    </tr>\n",
       "    <tr>\n",
       "      <th>calories</th>\n",
       "      <td>0.571072</td>\n",
       "      <td>1.000000</td>\n",
       "      <td>0.205913</td>\n",
       "      <td>0.510630</td>\n",
       "    </tr>\n",
       "    <tr>\n",
       "      <th>carbo</th>\n",
       "      <td>-0.349902</td>\n",
       "      <td>0.205913</td>\n",
       "      <td>1.000000</td>\n",
       "      <td>-0.329676</td>\n",
       "    </tr>\n",
       "    <tr>\n",
       "      <th>fat</th>\n",
       "      <td>0.270861</td>\n",
       "      <td>0.510630</td>\n",
       "      <td>-0.329676</td>\n",
       "      <td>1.000000</td>\n",
       "    </tr>\n",
       "  </tbody>\n",
       "</table>\n",
       "</div>"
      ],
      "text/plain": [
       "            sugars  calories     carbo       fat\n",
       "sugars    1.000000  0.571072 -0.349902  0.270861\n",
       "calories  0.571072  1.000000  0.205913  0.510630\n",
       "carbo    -0.349902  0.205913  1.000000 -0.329676\n",
       "fat       0.270861  0.510630 -0.329676  1.000000"
      ]
     },
     "execution_count": 18,
     "metadata": {},
     "output_type": "execute_result"
    }
   ],
   "source": [
    "#4. Is there a relation between sugars, calories, carbs, and fat?\n",
    "\n",
    "Relation=['sugars','calories', 'carbo', 'fat']\n",
    "df[Relation].corr()"
   ]
  },
  {
   "cell_type": "code",
   "execution_count": 8,
   "id": "ab7b09a4",
   "metadata": {},
   "outputs": [
    {
     "name": "stdout",
     "output_type": "stream",
     "text": [
      "                    name mfr type  calories  protein  fat  sodium  fiber  \\\n",
      "45  Mueslix_Crispy_Blend   K    C       160        3    2     150    3.0   \n",
      "\n",
      "    carbo  sugars  potass  vitamins  shelf  weight  cups     rating  \n",
      "45   17.0      13     160        25      3     1.5  0.67  30.313351  \n"
     ]
    }
   ],
   "source": [
    "#5. Which manufacturers produce cereal with highest calories?\n",
    "highest_calories=df[df['calories']==df['calories'].max()]\n",
    "print(highest_calories)"
   ]
  },
  {
   "cell_type": "code",
   "execution_count": 15,
   "id": "909765c5",
   "metadata": {},
   "outputs": [
    {
     "data": {
      "text/plain": [
       "'K'"
      ]
     },
     "execution_count": 15,
     "metadata": {},
     "output_type": "execute_result"
    }
   ],
   "source": [
    "df.loc[df['calories'].idxmax()]['mfr']"
   ]
  },
  {
   "cell_type": "code",
   "execution_count": 71,
   "id": "e8d9d291",
   "metadata": {},
   "outputs": [
    {
     "name": "stdout",
     "output_type": "stream",
     "text": [
      "p value is 0.391944138226545\n",
      "There is no significant association between the variables.\n"
     ]
    }
   ],
   "source": [
    "# 6.Using Chi-Square test to check if there's a relation between calories and consumer rating\n",
    "\n",
    "data = pd.crosstab(df['calories'], df['rating'])\n",
    "stat, p, dof, expected = chi2_contingency(data)\n",
    " \n",
    "significance_level = 0.05\n",
    "print(\"p value is \" + str(p))\n",
    "if p <= significance_level:\n",
    "    print(\"There is a significant association between the variables.\")\n",
    "else:\n",
    "    print(\"There is no significant association between the variables.\")"
   ]
  },
  {
   "cell_type": "code",
   "execution_count": 34,
   "id": "9db74c73",
   "metadata": {},
   "outputs": [
    {
     "data": {
      "text/plain": [
       "<AxesSubplot:>"
      ]
     },
     "execution_count": 34,
     "metadata": {},
     "output_type": "execute_result"
    },
    {
     "data": {
      "image/png": "[encoded data removed]",
      "text/plain": [
       "<Figure size 640x480 with 2 Axes>"
      ]
     },
     "metadata": {},
     "output_type": "display_data"
    }
   ],
   "source": [
    "#6.Visulisation\n",
    "sns.heatmap(df[['calories','rating']].corr(),annot=True)"
   ]
  },
  {
   "cell_type": "code",
   "execution_count": 9,
   "id": "452bbeed",
   "metadata": {},
   "outputs": [
    {
     "name": "stdout",
     "output_type": "stream",
     "text": [
      "Correlation between calories and rating:  -0.6743360496799723\n"
     ]
    }
   ],
   "source": [
    "# Normal Correlation test\n",
    "Relation_calories_rating=df['calories'].corr(df['rating'])\n",
    "print('Correlation between calories and rating: ',Relation_calories_rating)"
   ]
  },
  {
   "cell_type": "code",
   "execution_count": 57,
   "id": "4c50ee04",
   "metadata": {},
   "outputs": [
    {
     "name": "stdout",
     "output_type": "stream",
     "text": [
      "p value is 0.999915018661525\n",
      "There is no significant association between the variables.\n"
     ]
    }
   ],
   "source": [
    "#7. Using Chi-Square test to check if there is a relation between shelf and rating\n",
    "\n",
    "data = [df['shelf'], df['rating']]\n",
    "stat, p, dof, expected = chi2_contingency(data)\n",
    " \n",
    "significance_level = 0.05\n",
    "print(\"chi-square value is \" + str(p))\n",
    "if p <= significance_level:\n",
    "    print(\"There is a significant association between the variables.\")\n",
    "else:\n",
    "    print(\"There is no significant association between the variables.\")"
   ]
  },
  {
   "cell_type": "code",
   "execution_count": 35,
   "id": "22cf302c",
   "metadata": {},
   "outputs": [
    {
     "name": "stdout",
     "output_type": "stream",
     "text": [
      "Correlation between shelf and rating:  0.0019730207509652386\n"
     ]
    }
   ],
   "source": [
    "#7 Normal correlation test\n",
    "\n",
    "Relation_shelf_rating=df['shelf'].corr(df['rating'])\n",
    "print('Correlation between shelf and rating: ',Relation_shelf_rating)"
   ]
  },
  {
   "cell_type": "code",
   "execution_count": 39,
   "id": "18efba64",
   "metadata": {},
   "outputs": [
    {
     "data": {
      "text/plain": [
       "<AxesSubplot:>"
      ]
     },
     "execution_count": 39,
     "metadata": {},
     "output_type": "execute_result"
    },
    {
     "data": {
      "image/png": "[encoded data removed]",
      "text/plain": [
       "<Figure size 640x480 with 2 Axes>"
      ]
     },
     "metadata": {},
     "output_type": "display_data"
    }
   ],
   "source": [
    "#7. Use correlation tests and visualization to identify if the two variables shelf and consumer rating associated? \n",
    "\n",
    "sns.heatmap(df[['shelf','rating']].corr(),annot=True)"
   ]
  },
  {
   "cell_type": "code",
   "execution_count": 64,
   "id": "dd77e952",
   "metadata": {},
   "outputs": [
    {
     "name": "stdout",
     "output_type": "stream",
     "text": [
      "chi-square value is 0.4124224260799003\n",
      "There is no significant relation between the attributes.\n"
     ]
    }
   ],
   "source": [
    "#8. Use Chi-Square test to check if there's a relation between manufaturer and consumer rating\n",
    "\n",
    "data = (pd.crosstab(df['mfr'],df['rating']))\n",
    "stat, p, dof, expected = chi2_contingency(data)\n",
    " \n",
    "significance_level = 0.05\n",
    "print(\"chi-square value is \" + str(p))\n",
    "if p <= significance_level:\n",
    "    print(\"There is a significant relation between the attributes.\")\n",
    "else:\n",
    "    print(\"There is no significant relation between the attributes.\")"
   ]
  },
  {
   "cell_type": "code",
   "execution_count": 68,
   "id": "110b2b2c",
   "metadata": {},
   "outputs": [
    {
     "name": "stdout",
     "output_type": "stream",
     "text": [
      "There is no significant relation between calories and rating (chi-square_value: 0.391944138226545)\n",
      "There is no significant relation between protein and rating (chi-square_value: 0.41836092205785447)\n",
      "There is no significant relation between fat and rating (chi-square_value: 0.4247447031029783)\n",
      "There is no significant relation between sodium and rating (chi-square_value: 0.3382211964070985)\n",
      "There is no significant relation between fiber and rating (chi-square_value: 0.3874382972354804)\n",
      "There is no significant relation between carbo and rating (chi-square_value: 0.3535712577723234)\n",
      "There is no significant relation between potass and rating (chi-square_value: 0.31443405619042436)\n",
      "There is no significant relation between vitamins and rating (chi-square_value: 0.4390333100516997)\n"
     ]
    }
   ],
   "source": [
    "#9. Determine which nutrients are essential for a good rating for a cereal\n",
    "\n",
    "#Using chi-square test\n",
    "\n",
    "essential_nutrients = ['calories','protein', 'fat','sodium','fiber','carbo','potass','vitamins',]\n",
    "\n",
    "for nutrient in essential_nutrients:\n",
    "    data = pd.crosstab(df[nutrient],df['rating'])\n",
    "    stat, p, dof, expected  = chi2_contingency(data)\n",
    "\n",
    "    significance_level = 0.05\n",
    "    if p < significance_level:\n",
    "        print(f\"There is a significant relation between {nutrient} and rating (chi-square_value: {p})\")\n",
    "    else:\n",
    "        print(f\"There is no significant relation between {nutrient} and rating (chi-square_value: {p})\")"
   ]
  },
  {
   "cell_type": "code",
   "execution_count": 63,
   "id": "ada39ac8",
   "metadata": {},
   "outputs": [
    {
     "name": "stdout",
     "output_type": "stream",
     "text": [
      "protein,0.4536831680905635\n",
      "fat,-0.4184389012415263\n",
      "sodium,-0.40207717976320245\n",
      "fiber,0.5572418136133624\n",
      "carbo,0.11317283230180675\n",
      "potass,0.33992463955681484\n",
      "vitamins,-0.24251614776429342\n"
     ]
    }
   ],
   "source": [
    "#9. Normal correlation test\n",
    "essential_nutrients = ['protein', 'fat','sodium','fiber','carbo','potass','vitamins']\n",
    "for nutrient in essential_nutrients:\n",
    "    corr_value=df[nutrient].corr(df['rating'])\n",
    "    print(f\"{nutrient},{corr_value}\")"
   ]
  },
  {
   "cell_type": "code",
   "execution_count": null,
   "id": "038326a3",
   "metadata": {},
   "outputs": [],
   "source": [
    "From above correlation we might interpret that 'Fiber','Protien','Potass','Carbo' are essential nutrients"
   ]
  },
  {
   "cell_type": "code",
   "execution_count": null,
   "id": "7d2c4e48",
   "metadata": {},
   "outputs": [],
   "source": [
    "#10. Design a Linear regression model to predict the rating of a cereal based on top 3 related nutrients. Tabulate the accuracy of the model using an 80, 20 split."
   ]
  }
 ],
 "metadata": {
  "kernelspec": {
   "display_name": "Python 3 (ipykernel)",
   "language": "python",
   "name": "python3"
  },
  "language_info": {
   "codemirror_mode": {
    "name": "ipython",
    "version": 3
   },
   "file_extension": ".py",
   "mimetype": "text/x-python",
   "name": "python",
   "nbconvert_exporter": "python",
   "pygments_lexer": "ipython3",
   "version": "3.11.4"
  }
 },
 "nbformat": 4,
 "nbformat_minor": 5
}
