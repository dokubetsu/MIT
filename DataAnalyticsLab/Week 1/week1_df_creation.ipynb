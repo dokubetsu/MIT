{
 "cells": [
  {
   "cell_type": "code",
   "execution_count": null,
   "id": "c1af1a30",
   "metadata": {},
   "outputs": [],
   "source": [
    "Rishik Reddy Bandi\n",
    "B2-39\n",
    "220968200"
   ]
  },
  {
   "cell_type": "code",
   "execution_count": 1,
   "id": "29c6612d",
   "metadata": {},
   "outputs": [
    {
     "name": "stdout",
     "output_type": "stream",
     "text": [
      "   Roll Number     Name Gender  Marks1  Marks2  Marks3\n",
      "0            1   Edward      M      85      90      70\n",
      "1            2     John      M      70      85      80\n",
      "2            3   Mahesh      M      60      40      90\n",
      "3            4  Cillian      M      45      20      50\n",
      "4            5   Robert      M      95      30      60\n",
      "5            6     Matt      M      75      55      75\n",
      "6            7   Rishik      M     100     100     100\n",
      "7            8    Emily      F      55      96      40\n",
      "8            9    Chris      M      65      30      55\n",
      "9           10    Steve      M      50      80      65\n"
     ]
    }
   ],
   "source": [
    "#1. Create a data frame with details of 10 students and columns as Roll Number, Name, Gender, Marks1, Marks2, Marks3.\n",
    "\n",
    "import pandas as pd\n",
    "\n",
    "data = {\n",
    "    'Roll Number': [1, 2, 3, 4, 5, 6, 7, 8, 9, 10],\n",
    "    'Name':['Edward','John','Mahesh','Cillian','Robert','Matt','Rishik','Emily','Chris','Steve'],\n",
    "    'Gender':['M','M','M','M','M','M','M','F','M','M'],\n",
    "    'Marks1': [85, 70, 60, 45, 95, 75, 100, 55, 65, 50],\n",
    "    'Marks2': [90, 85, 40, 20, 30, 55, 100, 96, 30, 80],\n",
    "    'Marks3': [70, 80, 90, 50, 60, 75, 100, 40, 55, 65]\n",
    "}\n",
    "row_labels=[1,2,3,4,5,6,7,8,9,10]\n",
    "df = pd.DataFrame(data)\n",
    "print(df)"
   ]
  },
  {
   "cell_type": "code",
   "execution_count": 2,
   "id": "2d0c447f",
   "metadata": {},
   "outputs": [
    {
     "name": "stdout",
     "output_type": "stream",
     "text": [
      "   Roll Number     Name Gender  Marks1  Marks2  Marks3  Total Marks\n",
      "0            1   Edward      M      85      90      70          245\n",
      "1            2     John      M      70      85      80          235\n",
      "2            3   Mahesh      M      60      40      90          190\n",
      "3            4  Cillian      M      45      20      50          115\n",
      "4            5   Robert      M      95      30      60          185\n",
      "5            6     Matt      M      75      55      75          205\n",
      "6            7   Rishik      M     100     100     100          300\n",
      "7            8    Emily      F      55      96      40          191\n",
      "8            9    Chris      M      65      30      55          150\n",
      "9           10    Steve      M      50      80      65          195\n"
     ]
    }
   ],
   "source": [
    "#2. Create a new column with total marks\n",
    "\n",
    "df['Total Marks'] = df['Marks1'] + df['Marks2'] + df['Marks3']\n",
    "print(df)"
   ]
  },
  {
   "cell_type": "code",
   "execution_count": 3,
   "id": "f31b0178",
   "metadata": {},
   "outputs": [
    {
     "name": "stdout",
     "output_type": "stream",
     "text": [
      "Lowest Marks in Marks1: 45\n"
     ]
    }
   ],
   "source": [
    "#3. Find the lowest marks in Marks1\n",
    "\n",
    "lmarks1 = df['Marks1'].min()\n",
    "print(\"Lowest Marks in Marks1:\", lmarks1)"
   ]
  },
  {
   "cell_type": "code",
   "execution_count": 4,
   "id": "4534a6e9",
   "metadata": {},
   "outputs": [
    {
     "name": "stdout",
     "output_type": "stream",
     "text": [
      "Highest Marks in Marks2: 100\n"
     ]
    }
   ],
   "source": [
    "#4. Find the Highest marks in Marks2\n",
    "\n",
    "hmarks2 = df['Marks2'].max()\n",
    "print(\"Highest Marks in Marks2:\", hmarks2)"
   ]
  },
  {
   "cell_type": "code",
   "execution_count": 5,
   "id": "7e4459b2",
   "metadata": {},
   "outputs": [
    {
     "name": "stdout",
     "output_type": "stream",
     "text": [
      "Average Marks in Marks3: 68.5\n"
     ]
    }
   ],
   "source": [
    "#5. Find the average marks in Marks3\n",
    "\n",
    "avgmarks3 = df['Marks3'].mean()\n",
    "print(\"Average Marks in Marks3:\", avgmarks3)"
   ]
  },
  {
   "cell_type": "code",
   "execution_count": 6,
   "id": "23a812a8",
   "metadata": {},
   "outputs": [
    {
     "name": "stdout",
     "output_type": "stream",
     "text": [
      "Student with the highest average: Rishik\n"
     ]
    }
   ],
   "source": [
    "#6. Find student name with highest average\n",
    "\n",
    "df['Average'] = (df['Marks1'] + df['Marks2'] + df['Marks3']) / 3\n",
    "highest_average_student = df.loc[df['Average'].idxmax(), 'Name']\n",
    "print(\"Student with the highest average:\", highest_average_student)"
   ]
  },
  {
   "cell_type": "code",
   "execution_count": 7,
   "id": "064c0a73",
   "metadata": {},
   "outputs": [
    {
     "name": "stdout",
     "output_type": "stream",
     "text": [
      "Number of students failed in Marks2: 3\n"
     ]
    }
   ],
   "source": [
    "#7. Find how many students failed in Marks2 (<40\n",
    "\n",
    "fmarks2 = df[df['Marks2'] < 40]\n",
    "print(\"Number of students failed in Marks2:\", len(fmarks2))"
   ]
  },
  {
   "cell_type": "code",
   "execution_count": null,
   "id": "5ad76ba7",
   "metadata": {},
   "outputs": [],
   "source": []
  }
 ],
 "metadata": {
  "kernelspec": {
   "display_name": "Python 3 (ipykernel)",
   "language": "python",
   "name": "python3"
  },
  "language_info": {
   "codemirror_mode": {
    "name": "ipython",
    "version": 3
   },
   "file_extension": ".py",
   "mimetype": "text/x-python",
   "name": "python",
   "nbconvert_exporter": "python",
   "pygments_lexer": "ipython3",
   "version": "3.11.4"
  }
 },
 "nbformat": 4,
 "nbformat_minor": 5
}
