{
 "cells": [
  {
   "cell_type": "markdown",
   "id": "4b9d1cfc",
   "metadata": {},
   "source": [
    "## Rishik  Reddy Bandi\n",
    "## 220968300\n",
    "##  DSE  B"
   ]
  },
  {
   "cell_type": "code",
   "execution_count": 8,
   "id": "f6dd0b34",
   "metadata": {},
   "outputs": [
    {
     "name": "stdout",
     "output_type": "stream",
     "text": [
      "Mean:  4.888888888888889\n",
      "Median:  5\n",
      "Mode:  8\n",
      "Variance:  6.611111111111111\n",
      "Standard Deviation:  2.5712081034235856\n"
     ]
    }
   ],
   "source": [
    "import statistics\n",
    "\n",
    "# Sample list of numbers\n",
    "data = [4, 7, 2, 8, 5, 1, 8, 6, 3]\n",
    "\n",
    "# Mean\n",
    "mean = statistics.mean(data)\n",
    "print(\"Mean: \",mean)\n",
    "\n",
    "# Median\n",
    "median = statistics.median(data)\n",
    "print(\"Median: \",median)\n",
    "\n",
    "# Mode\n",
    "mode = statistics.mode(data)\n",
    "print(\"Mode: \",mode)\n",
    "\n",
    "# Variance\n",
    "variance = statistics.variance(data)\n",
    "print(\"Variance: \",variance)\n",
    "\n",
    "# Standard Deviation\n",
    "std_dev = statistics.stdev(data)\n",
    "print(\"Standard Deviation: \",std_dev)\n"
   ]
  },
  {
   "cell_type": "code",
   "execution_count": 9,
   "id": "7ae6e6bf",
   "metadata": {},
   "outputs": [
    {
     "name": "stdout",
     "output_type": "stream",
     "text": [
      "[1, 4, 9, 16, 25]\n"
     ]
    }
   ],
   "source": [
    "# Original list of numbers\n",
    "org_list = [1, 2, 3, 4, 5]\n",
    "\n",
    "# List comprehension to generate a new list with squares\n",
    "sq_list = [x**2 for x in org_list]\n",
    "print(sq_list)\n"
   ]
  },
  {
   "cell_type": "code",
   "execution_count": 10,
   "id": "96244f94",
   "metadata": {},
   "outputs": [
    {
     "name": "stdout",
     "output_type": "stream",
     "text": [
      "Product of elements: 120\n"
     ]
    }
   ],
   "source": [
    "def product_of_elements(numbers):\n",
    "    result = 1\n",
    "    for num in numbers:\n",
    "        result *= num\n",
    "    return result\n",
    "\n",
    "# Example usage\n",
    "tuple_of_numbers = (2, 3, 4, 5)\n",
    "product = product_of_elements(tuple_of_numbers)\n",
    "print(f\"Product of elements: {product}\")\n"
   ]
  },
  {
   "cell_type": "code",
   "execution_count": 11,
   "id": "6a71ec08",
   "metadata": {},
   "outputs": [
    {
     "name": "stdout",
     "output_type": "stream",
     "text": [
      "{'l': 1, 'i': 4, 'k': 1, 'e': 1, 'o': 2, 'h': 1, 'w': 2, 'a': 2, 'm': 1, 'z': 3, 'n': 3, 'g': 3}\n"
     ]
    }
   ],
   "source": [
    "def count_letter_frequency(strings):\n",
    "    letter_frequency = {}\n",
    "\n",
    "    for string in strings:\n",
    "        for char in string:\n",
    "            if char.isalpha():\n",
    "                char_lower = char.lower()\n",
    "                letter_frequency[char_lower] = letter_frequency.get(char_lower, 0) + 1\n",
    "\n",
    "    return letter_frequency\n",
    "\n",
    "# Example usage\n",
    "strings_to_count = [\"Like\", \"Oh  Wow!\", \"Amazing\",\"Zing  Zing\"]\n",
    "result_dict = count_letter_frequency(strings_to_count)\n",
    "print(result_dict)\n"
   ]
  },
  {
   "cell_type": "code",
   "execution_count": null,
   "id": "72c8710a",
   "metadata": {},
   "outputs": [],
   "source": []
  }
 ],
 "metadata": {
  "kernelspec": {
   "display_name": "Python 3 (ipykernel)",
   "language": "python",
   "name": "python3"
  },
  "language_info": {
   "codemirror_mode": {
    "name": "ipython",
    "version": 3
   },
   "file_extension": ".py",
   "mimetype": "text/x-python",
   "name": "python",
   "nbconvert_exporter": "python",
   "pygments_lexer": "ipython3",
   "version": "3.11.5"
  }
 },
 "nbformat": 4,
 "nbformat_minor": 5
}
