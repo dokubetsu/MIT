{
 "cells": [
  {
   "cell_type": "markdown",
   "id": "a80b52f8",
   "metadata": {},
   "source": [
    "# Rishik Reddy Bandi\n",
    "# 220968300\n",
    "#  DSE B"
   ]
  },
  {
   "cell_type": "code",
   "execution_count": 76,
   "id": "7535d08a",
   "metadata": {},
   "outputs": [],
   "source": [
    "import pandas as pd\n",
    "import numpy as np\n",
    "import matplotlib.pyplot as plt\n",
    "import seaborn as sns"
   ]
  },
  {
   "cell_type": "code",
   "execution_count": 77,
   "id": "b2a48841",
   "metadata": {},
   "outputs": [],
   "source": [
    "df=pd.read_excel('MVData.xlsx')"
   ]
  },
  {
   "cell_type": "code",
   "execution_count": 78,
   "id": "d925369d",
   "metadata": {},
   "outputs": [
    {
     "data": {
      "text/html": [
       "<div>\n",
       "<style scoped>\n",
       "    .dataframe tbody tr th:only-of-type {\n",
       "        vertical-align: middle;\n",
       "    }\n",
       "\n",
       "    .dataframe tbody tr th {\n",
       "        vertical-align: top;\n",
       "    }\n",
       "\n",
       "    .dataframe thead th {\n",
       "        text-align: right;\n",
       "    }\n",
       "</style>\n",
       "<table border=\"1\" class=\"dataframe\">\n",
       "  <thead>\n",
       "    <tr style=\"text-align: right;\">\n",
       "      <th></th>\n",
       "      <th>Z</th>\n",
       "      <th>Y</th>\n",
       "      <th>X1</th>\n",
       "      <th>X2</th>\n",
       "    </tr>\n",
       "  </thead>\n",
       "  <tbody>\n",
       "    <tr>\n",
       "      <th>0</th>\n",
       "      <td>1</td>\n",
       "      <td>12.21</td>\n",
       "      <td>4</td>\n",
       "      <td>3</td>\n",
       "    </tr>\n",
       "    <tr>\n",
       "      <th>1</th>\n",
       "      <td>2</td>\n",
       "      <td>31.13</td>\n",
       "      <td>1</td>\n",
       "      <td>6</td>\n",
       "    </tr>\n",
       "    <tr>\n",
       "      <th>2</th>\n",
       "      <td>3</td>\n",
       "      <td>11.11</td>\n",
       "      <td>6</td>\n",
       "      <td>9</td>\n",
       "    </tr>\n",
       "    <tr>\n",
       "      <th>3</th>\n",
       "      <td>4</td>\n",
       "      <td>21.12</td>\n",
       "      <td>3</td>\n",
       "      <td>1</td>\n",
       "    </tr>\n",
       "    <tr>\n",
       "      <th>4</th>\n",
       "      <td>5</td>\n",
       "      <td>13.31</td>\n",
       "      <td>9</td>\n",
       "      <td>4</td>\n",
       "    </tr>\n",
       "  </tbody>\n",
       "</table>\n",
       "</div>"
      ],
      "text/plain": [
       "   Z      Y  X1  X2\n",
       "0  1  12.21   4   3\n",
       "1  2  31.13   1   6\n",
       "2  3  11.11   6   9\n",
       "3  4  21.12   3   1\n",
       "4  5  13.31   9   4"
      ]
     },
     "execution_count": 78,
     "metadata": {},
     "output_type": "execute_result"
    }
   ],
   "source": [
    "df"
   ]
  },
  {
   "cell_type": "code",
   "execution_count": 79,
   "id": "74656d1e",
   "metadata": {},
   "outputs": [
    {
     "data": {
      "text/plain": [
       "array([4, 1, 6, 3, 9], dtype=int64)"
      ]
     },
     "execution_count": 79,
     "metadata": {},
     "output_type": "execute_result"
    }
   ],
   "source": [
    "X1=np.array(df['X1'])\n",
    "X1"
   ]
  },
  {
   "cell_type": "code",
   "execution_count": 80,
   "id": "65571d20",
   "metadata": {},
   "outputs": [
    {
     "data": {
      "text/plain": [
       "array([3, 6, 9, 1, 4], dtype=int64)"
      ]
     },
     "execution_count": 80,
     "metadata": {},
     "output_type": "execute_result"
    }
   ],
   "source": [
    "X2=np.array(df['X2'])\n",
    "X2"
   ]
  },
  {
   "cell_type": "code",
   "execution_count": 81,
   "id": "8169b44f",
   "metadata": {},
   "outputs": [
    {
     "data": {
      "text/plain": [
       "array([12.21, 31.13, 11.11, 21.12, 13.31])"
      ]
     },
     "execution_count": 81,
     "metadata": {},
     "output_type": "execute_result"
    }
   ],
   "source": [
    "Y=np.array(df['Y'])\n",
    "Y"
   ]
  },
  {
   "cell_type": "code",
   "execution_count": 82,
   "id": "25e9da1b",
   "metadata": {},
   "outputs": [
    {
     "data": {
      "text/plain": [
       "array([12,  6, 54,  3, 36], dtype=int64)"
      ]
     },
     "execution_count": 82,
     "metadata": {},
     "output_type": "execute_result"
    }
   ],
   "source": [
    "X1X2=X1*X2\n",
    "X1X2"
   ]
  },
  {
   "cell_type": "code",
   "execution_count": 83,
   "id": "2447a3c0",
   "metadata": {},
   "outputs": [
    {
     "data": {
      "text/plain": [
       "array([16,  1, 36,  9, 81], dtype=int64)"
      ]
     },
     "execution_count": 83,
     "metadata": {},
     "output_type": "execute_result"
    }
   ],
   "source": [
    "X1X1=X1*X1\n",
    "X1X1"
   ]
  },
  {
   "cell_type": "code",
   "execution_count": 84,
   "id": "120b5f1c",
   "metadata": {},
   "outputs": [
    {
     "data": {
      "text/plain": [
       "array([ 9, 36, 81,  1, 16], dtype=int64)"
      ]
     },
     "execution_count": 84,
     "metadata": {},
     "output_type": "execute_result"
    }
   ],
   "source": [
    "X2X2=X2*X2\n",
    "X2X2"
   ]
  },
  {
   "cell_type": "code",
   "execution_count": 85,
   "id": "a0a29a45",
   "metadata": {},
   "outputs": [
    {
     "data": {
      "text/plain": [
       "array([ 48.84,  31.13,  66.66,  63.36, 119.79])"
      ]
     },
     "execution_count": 85,
     "metadata": {},
     "output_type": "execute_result"
    }
   ],
   "source": [
    "X1Y=X1*Y\n",
    "X1Y"
   ]
  },
  {
   "cell_type": "code",
   "execution_count": 86,
   "id": "58918732",
   "metadata": {},
   "outputs": [
    {
     "data": {
      "text/plain": [
       "array([ 36.63, 186.78,  99.99,  21.12,  53.24])"
      ]
     },
     "execution_count": 86,
     "metadata": {},
     "output_type": "execute_result"
    }
   ],
   "source": [
    "X2Y=X2*Y\n",
    "X2Y"
   ]
  },
  {
   "cell_type": "code",
   "execution_count": 87,
   "id": "e4af72c3",
   "metadata": {},
   "outputs": [
    {
     "data": {
      "text/plain": [
       "37.2"
      ]
     },
     "execution_count": 87,
     "metadata": {},
     "output_type": "execute_result"
    }
   ],
   "source": [
    "sum_x12=np.sum(X1X1)-((np.sum(X1)*np.sum(X1))/len(X1))\n",
    "sum_x12"
   ]
  },
  {
   "cell_type": "code",
   "execution_count": 88,
   "id": "088319f8",
   "metadata": {},
   "outputs": [
    {
     "data": {
      "text/plain": [
       "37.2"
      ]
     },
     "execution_count": 88,
     "metadata": {},
     "output_type": "execute_result"
    }
   ],
   "source": [
    "sum_x22=np.sum(X2X2)-((np.sum(X2)*np.sum(X2))/len(X2))\n",
    "sum_x22"
   ]
  },
  {
   "cell_type": "code",
   "execution_count": 89,
   "id": "7c0c7c8a",
   "metadata": {},
   "outputs": [
    {
     "data": {
      "text/plain": [
       "-79.06800000000004"
      ]
     },
     "execution_count": 89,
     "metadata": {},
     "output_type": "execute_result"
    }
   ],
   "source": [
    "sum_x1y=np.sum(X1Y)-((np.sum(X1)*np.sum(Y))/len(X1))\n",
    "sum_x1y"
   ]
  },
  {
   "cell_type": "code",
   "execution_count": 90,
   "id": "a08188da",
   "metadata": {},
   "outputs": [
    {
     "data": {
      "text/plain": [
       "-11.08800000000008"
      ]
     },
     "execution_count": 90,
     "metadata": {},
     "output_type": "execute_result"
    }
   ],
   "source": [
    "sum_x2y=np.sum(X2Y)-((np.sum(X2)*np.sum(Y))/len(X2))\n",
    "sum_x2y"
   ]
  },
  {
   "cell_type": "code",
   "execution_count": 91,
   "id": "7978b531",
   "metadata": {},
   "outputs": [
    {
     "data": {
      "text/plain": [
       "5.200000000000003"
      ]
     },
     "execution_count": 91,
     "metadata": {},
     "output_type": "execute_result"
    }
   ],
   "source": [
    "sum_x1x2=np.sum(X1X2)-((np.sum(X1)*np.sum(X2))/len(X2))\n",
    "sum_x1x2"
   ]
  },
  {
   "cell_type": "code",
   "execution_count": 92,
   "id": "6eed50ab",
   "metadata": {},
   "outputs": [
    {
     "data": {
      "text/plain": [
       "-2.1253478773584913"
      ]
     },
     "execution_count": 92,
     "metadata": {},
     "output_type": "execute_result"
    }
   ],
   "source": [
    "b1=(((sum_x22)*(sum_x1y))-((sum_x1x2)*(sum_x2y)))/(((sum_x12)*(sum_x22))-((sum_x1x2)*(sum_x1x2)))\n",
    "b1"
   ]
  },
  {
   "cell_type": "code",
   "execution_count": 93,
   "id": "f50047e6",
   "metadata": {},
   "outputs": [
    {
     "data": {
      "text/plain": [
       "-0.0009728773584924462"
      ]
     },
     "execution_count": 93,
     "metadata": {},
     "output_type": "execute_result"
    }
   ],
   "source": [
    "b2=(((sum_x12)*(sum_x2y))-((sum_x1x2)*(sum_x1y)))/(((sum_x12)*(sum_x22))-((sum_x1x2)*(sum_x1x2)))\n",
    "b2"
   ]
  },
  {
   "cell_type": "code",
   "execution_count": 94,
   "id": "46f61537",
   "metadata": {},
   "outputs": [
    {
     "data": {
      "text/plain": [
       "27.557075471698127"
      ]
     },
     "execution_count": 94,
     "metadata": {},
     "output_type": "execute_result"
    }
   ],
   "source": [
    "a=np.mean(Y)-(b1*(np.mean(X1)))-(b2*(np.mean(X2)))\n",
    "a"
   ]
  },
  {
   "cell_type": "code",
   "execution_count": 95,
   "id": "8505b72d",
   "metadata": {},
   "outputs": [
    {
     "data": {
      "text/plain": [
       "array([19.05276533, 25.42589033, 14.79623231, 21.18005896,  8.42505307])"
      ]
     },
     "execution_count": 95,
     "metadata": {},
     "output_type": "execute_result"
    }
   ],
   "source": [
    "#Equation\n",
    "\n",
    "y=a+(b1*X1)+(b2*X2)\n",
    "y"
   ]
  },
  {
   "cell_type": "code",
   "execution_count": 96,
   "id": "8a0d5a86",
   "metadata": {},
   "outputs": [
    {
     "data": {
      "text/plain": [
       "21.17908608490567"
      ]
     },
     "execution_count": 96,
     "metadata": {},
     "output_type": "execute_result"
    }
   ],
   "source": [
    "# Manual Method Prediction\n",
    "x1=3\n",
    "x2=2\n",
    "Y=a+(b1*x1)+(b2*x2)\n",
    "Y"
   ]
  },
  {
   "cell_type": "code",
   "execution_count": 97,
   "id": "7138b270",
   "metadata": {},
   "outputs": [
    {
     "ename": "ValueError",
     "evalue": "x and y must be the same size",
     "output_type": "error",
     "traceback": [
      "\u001b[1;31m---------------------------------------------------------------------------\u001b[0m",
      "\u001b[1;31mValueError\u001b[0m                                Traceback (most recent call last)",
      "Cell \u001b[1;32mIn[97], line 1\u001b[0m\n\u001b[1;32m----> 1\u001b[0m plt\u001b[38;5;241m.\u001b[39mscatter(X1,Y,color\u001b[38;5;241m=\u001b[39m\u001b[38;5;124m'\u001b[39m\u001b[38;5;124mblue\u001b[39m\u001b[38;5;124m'\u001b[39m,marker\u001b[38;5;241m=\u001b[39m\u001b[38;5;124m'\u001b[39m\u001b[38;5;124m*\u001b[39m\u001b[38;5;124m'\u001b[39m,s\u001b[38;5;241m=\u001b[39m\u001b[38;5;241m100\u001b[39m,label\u001b[38;5;241m=\u001b[39m\u001b[38;5;124m'\u001b[39m\u001b[38;5;124mX1 vs Y\u001b[39m\u001b[38;5;124m'\u001b[39m)\n\u001b[0;32m      2\u001b[0m plt\u001b[38;5;241m.\u001b[39mscatter(X2,Y,color\u001b[38;5;241m=\u001b[39m\u001b[38;5;124m'\u001b[39m\u001b[38;5;124mred\u001b[39m\u001b[38;5;124m'\u001b[39m,marker\u001b[38;5;241m=\u001b[39m\u001b[38;5;124m'\u001b[39m\u001b[38;5;124m+\u001b[39m\u001b[38;5;124m'\u001b[39m,s\u001b[38;5;241m=\u001b[39m\u001b[38;5;241m100\u001b[39m,label\u001b[38;5;241m=\u001b[39m\u001b[38;5;124m'\u001b[39m\u001b[38;5;124mX2 vs Y\u001b[39m\u001b[38;5;124m'\u001b[39m)\n\u001b[0;32m      3\u001b[0m plt\u001b[38;5;241m.\u001b[39mlegend()\n",
      "File \u001b[1;32mC:\\ProgramData\\anaconda3\\Lib\\site-packages\\matplotlib\\pyplot.py:2862\u001b[0m, in \u001b[0;36mscatter\u001b[1;34m(x, y, s, c, marker, cmap, norm, vmin, vmax, alpha, linewidths, edgecolors, plotnonfinite, data, **kwargs)\u001b[0m\n\u001b[0;32m   2857\u001b[0m \u001b[38;5;129m@_copy_docstring_and_deprecators\u001b[39m(Axes\u001b[38;5;241m.\u001b[39mscatter)\n\u001b[0;32m   2858\u001b[0m \u001b[38;5;28;01mdef\u001b[39;00m \u001b[38;5;21mscatter\u001b[39m(\n\u001b[0;32m   2859\u001b[0m         x, y, s\u001b[38;5;241m=\u001b[39m\u001b[38;5;28;01mNone\u001b[39;00m, c\u001b[38;5;241m=\u001b[39m\u001b[38;5;28;01mNone\u001b[39;00m, marker\u001b[38;5;241m=\u001b[39m\u001b[38;5;28;01mNone\u001b[39;00m, cmap\u001b[38;5;241m=\u001b[39m\u001b[38;5;28;01mNone\u001b[39;00m, norm\u001b[38;5;241m=\u001b[39m\u001b[38;5;28;01mNone\u001b[39;00m,\n\u001b[0;32m   2860\u001b[0m         vmin\u001b[38;5;241m=\u001b[39m\u001b[38;5;28;01mNone\u001b[39;00m, vmax\u001b[38;5;241m=\u001b[39m\u001b[38;5;28;01mNone\u001b[39;00m, alpha\u001b[38;5;241m=\u001b[39m\u001b[38;5;28;01mNone\u001b[39;00m, linewidths\u001b[38;5;241m=\u001b[39m\u001b[38;5;28;01mNone\u001b[39;00m, \u001b[38;5;241m*\u001b[39m,\n\u001b[0;32m   2861\u001b[0m         edgecolors\u001b[38;5;241m=\u001b[39m\u001b[38;5;28;01mNone\u001b[39;00m, plotnonfinite\u001b[38;5;241m=\u001b[39m\u001b[38;5;28;01mFalse\u001b[39;00m, data\u001b[38;5;241m=\u001b[39m\u001b[38;5;28;01mNone\u001b[39;00m, \u001b[38;5;241m*\u001b[39m\u001b[38;5;241m*\u001b[39mkwargs):\n\u001b[1;32m-> 2862\u001b[0m     __ret \u001b[38;5;241m=\u001b[39m gca()\u001b[38;5;241m.\u001b[39mscatter(\n\u001b[0;32m   2863\u001b[0m         x, y, s\u001b[38;5;241m=\u001b[39ms, c\u001b[38;5;241m=\u001b[39mc, marker\u001b[38;5;241m=\u001b[39mmarker, cmap\u001b[38;5;241m=\u001b[39mcmap, norm\u001b[38;5;241m=\u001b[39mnorm,\n\u001b[0;32m   2864\u001b[0m         vmin\u001b[38;5;241m=\u001b[39mvmin, vmax\u001b[38;5;241m=\u001b[39mvmax, alpha\u001b[38;5;241m=\u001b[39malpha, linewidths\u001b[38;5;241m=\u001b[39mlinewidths,\n\u001b[0;32m   2865\u001b[0m         edgecolors\u001b[38;5;241m=\u001b[39medgecolors, plotnonfinite\u001b[38;5;241m=\u001b[39mplotnonfinite,\n\u001b[0;32m   2866\u001b[0m         \u001b[38;5;241m*\u001b[39m\u001b[38;5;241m*\u001b[39m({\u001b[38;5;124m\"\u001b[39m\u001b[38;5;124mdata\u001b[39m\u001b[38;5;124m\"\u001b[39m: data} \u001b[38;5;28;01mif\u001b[39;00m data \u001b[38;5;129;01mis\u001b[39;00m \u001b[38;5;129;01mnot\u001b[39;00m \u001b[38;5;28;01mNone\u001b[39;00m \u001b[38;5;28;01melse\u001b[39;00m {}), \u001b[38;5;241m*\u001b[39m\u001b[38;5;241m*\u001b[39mkwargs)\n\u001b[0;32m   2867\u001b[0m     sci(__ret)\n\u001b[0;32m   2868\u001b[0m     \u001b[38;5;28;01mreturn\u001b[39;00m __ret\n",
      "File \u001b[1;32mC:\\ProgramData\\anaconda3\\Lib\\site-packages\\matplotlib\\__init__.py:1446\u001b[0m, in \u001b[0;36m_preprocess_data.<locals>.inner\u001b[1;34m(ax, data, *args, **kwargs)\u001b[0m\n\u001b[0;32m   1443\u001b[0m \u001b[38;5;129m@functools\u001b[39m\u001b[38;5;241m.\u001b[39mwraps(func)\n\u001b[0;32m   1444\u001b[0m \u001b[38;5;28;01mdef\u001b[39;00m \u001b[38;5;21minner\u001b[39m(ax, \u001b[38;5;241m*\u001b[39margs, data\u001b[38;5;241m=\u001b[39m\u001b[38;5;28;01mNone\u001b[39;00m, \u001b[38;5;241m*\u001b[39m\u001b[38;5;241m*\u001b[39mkwargs):\n\u001b[0;32m   1445\u001b[0m     \u001b[38;5;28;01mif\u001b[39;00m data \u001b[38;5;129;01mis\u001b[39;00m \u001b[38;5;28;01mNone\u001b[39;00m:\n\u001b[1;32m-> 1446\u001b[0m         \u001b[38;5;28;01mreturn\u001b[39;00m func(ax, \u001b[38;5;241m*\u001b[39m\u001b[38;5;28mmap\u001b[39m(sanitize_sequence, args), \u001b[38;5;241m*\u001b[39m\u001b[38;5;241m*\u001b[39mkwargs)\n\u001b[0;32m   1448\u001b[0m     bound \u001b[38;5;241m=\u001b[39m new_sig\u001b[38;5;241m.\u001b[39mbind(ax, \u001b[38;5;241m*\u001b[39margs, \u001b[38;5;241m*\u001b[39m\u001b[38;5;241m*\u001b[39mkwargs)\n\u001b[0;32m   1449\u001b[0m     auto_label \u001b[38;5;241m=\u001b[39m (bound\u001b[38;5;241m.\u001b[39marguments\u001b[38;5;241m.\u001b[39mget(label_namer)\n\u001b[0;32m   1450\u001b[0m                   \u001b[38;5;129;01mor\u001b[39;00m bound\u001b[38;5;241m.\u001b[39mkwargs\u001b[38;5;241m.\u001b[39mget(label_namer))\n",
      "File \u001b[1;32mC:\\ProgramData\\anaconda3\\Lib\\site-packages\\matplotlib\\axes\\_axes.py:4578\u001b[0m, in \u001b[0;36mAxes.scatter\u001b[1;34m(self, x, y, s, c, marker, cmap, norm, vmin, vmax, alpha, linewidths, edgecolors, plotnonfinite, **kwargs)\u001b[0m\n\u001b[0;32m   4576\u001b[0m y \u001b[38;5;241m=\u001b[39m np\u001b[38;5;241m.\u001b[39mma\u001b[38;5;241m.\u001b[39mravel(y)\n\u001b[0;32m   4577\u001b[0m \u001b[38;5;28;01mif\u001b[39;00m x\u001b[38;5;241m.\u001b[39msize \u001b[38;5;241m!=\u001b[39m y\u001b[38;5;241m.\u001b[39msize:\n\u001b[1;32m-> 4578\u001b[0m     \u001b[38;5;28;01mraise\u001b[39;00m \u001b[38;5;167;01mValueError\u001b[39;00m(\u001b[38;5;124m\"\u001b[39m\u001b[38;5;124mx and y must be the same size\u001b[39m\u001b[38;5;124m\"\u001b[39m)\n\u001b[0;32m   4580\u001b[0m \u001b[38;5;28;01mif\u001b[39;00m s \u001b[38;5;129;01mis\u001b[39;00m \u001b[38;5;28;01mNone\u001b[39;00m:\n\u001b[0;32m   4581\u001b[0m     s \u001b[38;5;241m=\u001b[39m (\u001b[38;5;241m20\u001b[39m \u001b[38;5;28;01mif\u001b[39;00m mpl\u001b[38;5;241m.\u001b[39mrcParams[\u001b[38;5;124m'\u001b[39m\u001b[38;5;124m_internal.classic_mode\u001b[39m\u001b[38;5;124m'\u001b[39m] \u001b[38;5;28;01melse\u001b[39;00m\n\u001b[0;32m   4582\u001b[0m          mpl\u001b[38;5;241m.\u001b[39mrcParams[\u001b[38;5;124m'\u001b[39m\u001b[38;5;124mlines.markersize\u001b[39m\u001b[38;5;124m'\u001b[39m] \u001b[38;5;241m*\u001b[39m\u001b[38;5;241m*\u001b[39m \u001b[38;5;241m2.0\u001b[39m)\n",
      "\u001b[1;31mValueError\u001b[0m: x and y must be the same size"
     ]
    },
    {
     "data": {
      "image/png": "[encoded data removed]",
      "text/plain": [
       "<Figure size 640x480 with 1 Axes>"
      ]
     },
     "metadata": {},
     "output_type": "display_data"
    }
   ],
   "source": [
    "plt.scatter(X1,Y,color='blue',marker='*',s=100,label='X1 vs Y')\n",
    "plt.scatter(X2,Y,color='red',marker='+',s=100,label='X2 vs Y')\n",
    "plt.legend()"
   ]
  },
  {
   "cell_type": "code",
   "execution_count": null,
   "id": "373ff22a",
   "metadata": {},
   "outputs": [],
   "source": [
    "sns.pairplot(df, kind='reg')\n",
    "plt.show()"
   ]
  },
  {
   "cell_type": "markdown",
   "id": "2bebd448",
   "metadata": {},
   "source": [
    "## Using  Random"
   ]
  },
  {
   "cell_type": "code",
   "execution_count": 98,
   "id": "f9f007ae",
   "metadata": {},
   "outputs": [],
   "source": [
    "X1=np.random.randint(2,high=20,size=10)\n",
    "X2=np.random.randint(2,high=20,size=10)\n",
    "Y=np.random.randint(2,high=20,size=10)"
   ]
  },
  {
   "cell_type": "code",
   "execution_count": 99,
   "id": "c7a050b8",
   "metadata": {},
   "outputs": [
    {
     "data": {
      "text/html": [
       "<div>\n",
       "<style scoped>\n",
       "    .dataframe tbody tr th:only-of-type {\n",
       "        vertical-align: middle;\n",
       "    }\n",
       "\n",
       "    .dataframe tbody tr th {\n",
       "        vertical-align: top;\n",
       "    }\n",
       "\n",
       "    .dataframe thead th {\n",
       "        text-align: right;\n",
       "    }\n",
       "</style>\n",
       "<table border=\"1\" class=\"dataframe\">\n",
       "  <thead>\n",
       "    <tr style=\"text-align: right;\">\n",
       "      <th></th>\n",
       "      <th>X1</th>\n",
       "      <th>X2</th>\n",
       "      <th>Y</th>\n",
       "    </tr>\n",
       "  </thead>\n",
       "  <tbody>\n",
       "    <tr>\n",
       "      <th>0</th>\n",
       "      <td>11</td>\n",
       "      <td>9</td>\n",
       "      <td>13</td>\n",
       "    </tr>\n",
       "    <tr>\n",
       "      <th>1</th>\n",
       "      <td>19</td>\n",
       "      <td>3</td>\n",
       "      <td>9</td>\n",
       "    </tr>\n",
       "    <tr>\n",
       "      <th>2</th>\n",
       "      <td>3</td>\n",
       "      <td>18</td>\n",
       "      <td>18</td>\n",
       "    </tr>\n",
       "    <tr>\n",
       "      <th>3</th>\n",
       "      <td>6</td>\n",
       "      <td>12</td>\n",
       "      <td>16</td>\n",
       "    </tr>\n",
       "    <tr>\n",
       "      <th>4</th>\n",
       "      <td>2</td>\n",
       "      <td>4</td>\n",
       "      <td>14</td>\n",
       "    </tr>\n",
       "    <tr>\n",
       "      <th>5</th>\n",
       "      <td>2</td>\n",
       "      <td>12</td>\n",
       "      <td>7</td>\n",
       "    </tr>\n",
       "    <tr>\n",
       "      <th>6</th>\n",
       "      <td>9</td>\n",
       "      <td>10</td>\n",
       "      <td>2</td>\n",
       "    </tr>\n",
       "    <tr>\n",
       "      <th>7</th>\n",
       "      <td>3</td>\n",
       "      <td>5</td>\n",
       "      <td>2</td>\n",
       "    </tr>\n",
       "    <tr>\n",
       "      <th>8</th>\n",
       "      <td>15</td>\n",
       "      <td>12</td>\n",
       "      <td>7</td>\n",
       "    </tr>\n",
       "    <tr>\n",
       "      <th>9</th>\n",
       "      <td>3</td>\n",
       "      <td>19</td>\n",
       "      <td>6</td>\n",
       "    </tr>\n",
       "  </tbody>\n",
       "</table>\n",
       "</div>"
      ],
      "text/plain": [
       "   X1  X2   Y\n",
       "0  11   9  13\n",
       "1  19   3   9\n",
       "2   3  18  18\n",
       "3   6  12  16\n",
       "4   2   4  14\n",
       "5   2  12   7\n",
       "6   9  10   2\n",
       "7   3   5   2\n",
       "8  15  12   7\n",
       "9   3  19   6"
      ]
     },
     "execution_count": 99,
     "metadata": {},
     "output_type": "execute_result"
    }
   ],
   "source": [
    "df1=pd.DataFrame({'X1':X1,'X2':X2,'Y':Y})\n",
    "df1"
   ]
  },
  {
   "cell_type": "code",
   "execution_count": 100,
   "id": "8b220443",
   "metadata": {},
   "outputs": [
    {
     "data": {
      "text/plain": [
       "array([11, 19,  3,  6,  2,  2,  9,  3, 15,  3])"
      ]
     },
     "execution_count": 100,
     "metadata": {},
     "output_type": "execute_result"
    }
   ],
   "source": [
    "X1"
   ]
  },
  {
   "cell_type": "code",
   "execution_count": 101,
   "id": "af29f4d8",
   "metadata": {},
   "outputs": [
    {
     "data": {
      "text/plain": [
       "array([ 9,  3, 18, 12,  4, 12, 10,  5, 12, 19])"
      ]
     },
     "execution_count": 101,
     "metadata": {},
     "output_type": "execute_result"
    }
   ],
   "source": [
    "X2"
   ]
  },
  {
   "cell_type": "code",
   "execution_count": 102,
   "id": "4ae7bf33",
   "metadata": {},
   "outputs": [
    {
     "data": {
      "text/plain": [
       "array([13,  9, 18, 16, 14,  7,  2,  2,  7,  6])"
      ]
     },
     "execution_count": 102,
     "metadata": {},
     "output_type": "execute_result"
    }
   ],
   "source": [
    "Y"
   ]
  },
  {
   "cell_type": "code",
   "execution_count": 103,
   "id": "1a82b13f",
   "metadata": {},
   "outputs": [
    {
     "data": {
      "text/plain": [
       "array([ 99,  57,  54,  72,   8,  24,  90,  15, 180,  57])"
      ]
     },
     "execution_count": 103,
     "metadata": {},
     "output_type": "execute_result"
    }
   ],
   "source": [
    "X1X2=X1*X2\n",
    "X1X2"
   ]
  },
  {
   "cell_type": "code",
   "execution_count": 104,
   "id": "81b19d0d",
   "metadata": {},
   "outputs": [
    {
     "data": {
      "text/plain": [
       "array([121, 361,   9,  36,   4,   4,  81,   9, 225,   9])"
      ]
     },
     "execution_count": 104,
     "metadata": {},
     "output_type": "execute_result"
    }
   ],
   "source": [
    "X1X1=X1*X1\n",
    "X1X1"
   ]
  },
  {
   "cell_type": "code",
   "execution_count": 105,
   "id": "8954bb9f",
   "metadata": {},
   "outputs": [
    {
     "data": {
      "text/plain": [
       "array([ 81,   9, 324, 144,  16, 144, 100,  25, 144, 361])"
      ]
     },
     "execution_count": 105,
     "metadata": {},
     "output_type": "execute_result"
    }
   ],
   "source": [
    "X2X2=X2*X2\n",
    "X2X2"
   ]
  },
  {
   "cell_type": "code",
   "execution_count": 106,
   "id": "31a21c25",
   "metadata": {},
   "outputs": [
    {
     "data": {
      "text/plain": [
       "array([143, 171,  54,  96,  28,  14,  18,   6, 105,  18])"
      ]
     },
     "execution_count": 106,
     "metadata": {},
     "output_type": "execute_result"
    }
   ],
   "source": [
    "X1Y=X1*Y\n",
    "X1Y"
   ]
  },
  {
   "cell_type": "code",
   "execution_count": 107,
   "id": "594240cc",
   "metadata": {},
   "outputs": [
    {
     "data": {
      "text/plain": [
       "array([117,  27, 324, 192,  56,  84,  20,  10,  84, 114])"
      ]
     },
     "execution_count": 107,
     "metadata": {},
     "output_type": "execute_result"
    }
   ],
   "source": [
    "X2Y=X2*Y\n",
    "X2Y"
   ]
  },
  {
   "cell_type": "code",
   "execution_count": 108,
   "id": "8b9e7c53",
   "metadata": {},
   "outputs": [
    {
     "data": {
      "text/plain": [
       "326.1"
      ]
     },
     "execution_count": 108,
     "metadata": {},
     "output_type": "execute_result"
    }
   ],
   "source": [
    "sum_x12=np.sum(X1X1)-((np.sum(X1)*np.sum(X1))/len(X1))\n",
    "sum_x12"
   ]
  },
  {
   "cell_type": "code",
   "execution_count": 109,
   "id": "abe1f410",
   "metadata": {},
   "outputs": [
    {
     "data": {
      "text/plain": [
       "266.4000000000001"
      ]
     },
     "execution_count": 109,
     "metadata": {},
     "output_type": "execute_result"
    }
   ],
   "source": [
    "sum_x22=np.sum(X2X2)-((np.sum(X2)*np.sum(X2))/len(X2))\n",
    "sum_x22"
   ]
  },
  {
   "cell_type": "code",
   "execution_count": 110,
   "id": "7a903f94",
   "metadata": {},
   "outputs": [
    {
     "data": {
      "text/plain": [
       "-33.200000000000045"
      ]
     },
     "execution_count": 110,
     "metadata": {},
     "output_type": "execute_result"
    }
   ],
   "source": [
    "sum_x1y=np.sum(X1Y)-((np.sum(X1)*np.sum(Y))/len(X1))\n",
    "sum_x1y"
   ]
  },
  {
   "cell_type": "code",
   "execution_count": 111,
   "id": "ebe688e1",
   "metadata": {},
   "outputs": [
    {
     "data": {
      "text/plain": [
       "50.39999999999998"
      ]
     },
     "execution_count": 111,
     "metadata": {},
     "output_type": "execute_result"
    }
   ],
   "source": [
    "sum_x2y=np.sum(X2Y)-((np.sum(X2)*np.sum(Y))/len(X2))\n",
    "sum_x2y"
   ]
  },
  {
   "cell_type": "code",
   "execution_count": 112,
   "id": "f0d66576",
   "metadata": {},
   "outputs": [
    {
     "data": {
      "text/plain": [
       "-103.20000000000005"
      ]
     },
     "execution_count": 112,
     "metadata": {},
     "output_type": "execute_result"
    }
   ],
   "source": [
    "sum_x1x2=np.sum(X1X2)-((np.sum(X1)*np.sum(X2))/len(X2))\n",
    "sum_x1x2"
   ]
  },
  {
   "cell_type": "code",
   "execution_count": 113,
   "id": "02cdf111",
   "metadata": {},
   "outputs": [
    {
     "data": {
      "text/plain": [
       "-0.047796722240589624"
      ]
     },
     "execution_count": 113,
     "metadata": {},
     "output_type": "execute_result"
    }
   ],
   "source": [
    "b1=(((sum_x22)*(sum_x1y))-((sum_x1x2)*(sum_x2y)))/(((sum_x12)*(sum_x22))-((sum_x1x2)*(sum_x1x2)))\n",
    "b1"
   ]
  },
  {
   "cell_type": "code",
   "execution_count": 114,
   "id": "1c1ce3fe",
   "metadata": {},
   "outputs": [
    {
     "data": {
      "text/plain": [
       "0.1706733418347264"
      ]
     },
     "execution_count": 114,
     "metadata": {},
     "output_type": "execute_result"
    }
   ],
   "source": [
    "b2=(((sum_x12)*(sum_x2y))-((sum_x1x2)*(sum_x1y)))/(((sum_x12)*(sum_x22))-((sum_x1x2)*(sum_x1x2)))\n",
    "b2"
   ]
  },
  {
   "cell_type": "code",
   "execution_count": 115,
   "id": "f51d349b",
   "metadata": {},
   "outputs": [
    {
     "data": {
      "text/plain": [
       "7.973913317275151"
      ]
     },
     "execution_count": 115,
     "metadata": {},
     "output_type": "execute_result"
    }
   ],
   "source": [
    "a=np.mean(Y)-(b1*(np.mean(X1)))-(b2*(np.mean(X2)))\n",
    "a"
   ]
  },
  {
   "cell_type": "code",
   "execution_count": 116,
   "id": "46cec13b",
   "metadata": {},
   "outputs": [
    {
     "data": {
      "text/plain": [
       "array([ 8.98420945,  7.57779562, 10.9026433 ,  9.73521309,  8.56101324,\n",
       "        9.92639997,  9.25047624,  8.68388986,  9.30504259, 11.07331665])"
      ]
     },
     "execution_count": 116,
     "metadata": {},
     "output_type": "execute_result"
    }
   ],
   "source": [
    "# Equation\n",
    "\n",
    "y=a+(b1*X1)+(b2*X2)\n",
    "y"
   ]
  },
  {
   "cell_type": "code",
   "execution_count": 117,
   "id": "cd4c78f0",
   "metadata": {},
   "outputs": [
    {
     "data": {
      "text/plain": [
       "8.171869834222834"
      ]
     },
     "execution_count": 117,
     "metadata": {},
     "output_type": "execute_result"
    }
   ],
   "source": [
    "# Manual Method Prediction\n",
    "x1=3\n",
    "x2=2\n",
    "Y=a+(b1*x1)+(b2*x2)\n",
    "Y"
   ]
  },
  {
   "cell_type": "code",
   "execution_count": 118,
   "id": "50742708",
   "metadata": {},
   "outputs": [
    {
     "data": {
      "image/png": "[encoded data removed]",
      "text/plain": [
       "<Figure size 640x480 with 1 Axes>"
      ]
     },
     "metadata": {},
     "output_type": "display_data"
    }
   ],
   "source": [
    "sns.scatterplot(df1)\n",
    "plt.show()"
   ]
  },
  {
   "cell_type": "code",
   "execution_count": 119,
   "id": "ee1cff7a",
   "metadata": {},
   "outputs": [
    {
     "name": "stderr",
     "output_type": "stream",
     "text": [
      "C:\\Users\\rrban\\AppData\\Roaming\\Python\\Python311\\site-packages\\seaborn\\axisgrid.py:123: UserWarning: The figure layout has changed to tight\n",
      "  self._figure.tight_layout(*args, **kwargs)\n"
     ]
    },
    {
     "data": {
      "image/png": "[encoded data removed]",
      "text/plain": [
       "<Figure size 750x750 with 12 Axes>"
      ]
     },
     "metadata": {},
     "output_type": "display_data"
    }
   ],
   "source": [
    "sns.pairplot(df1, kind='reg')\n",
    "plt.show()"
   ]
  },
  {
   "cell_type": "markdown",
   "id": "e562f224",
   "metadata": {},
   "source": [
    "## Float"
   ]
  },
  {
   "cell_type": "code",
   "execution_count": 120,
   "id": "53da970e",
   "metadata": {},
   "outputs": [],
   "source": [
    "X1=[]\n",
    "for i in range(1,6):\n",
    "    x=(np.random.uniform(1,20))\n",
    "    X1.append(x)\n",
    "X1=np.array(X1)\n",
    "\n",
    "X2=[]\n",
    "for i in range(1,6):\n",
    "    x=(np.random.uniform(1,20))\n",
    "    X2.append(x)\n",
    "X2=np.array(X2)\n",
    "\n",
    "Y=[]\n",
    "for i in range(1,6):\n",
    "    x=(np.random.uniform(1,20))\n",
    "    Y.append(x)\n",
    "Y=np.array(Y)"
   ]
  },
  {
   "cell_type": "code",
   "execution_count": 121,
   "id": "44bcf1a6",
   "metadata": {},
   "outputs": [
    {
     "data": {
      "text/html": [
       "<div>\n",
       "<style scoped>\n",
       "    .dataframe tbody tr th:only-of-type {\n",
       "        vertical-align: middle;\n",
       "    }\n",
       "\n",
       "    .dataframe tbody tr th {\n",
       "        vertical-align: top;\n",
       "    }\n",
       "\n",
       "    .dataframe thead th {\n",
       "        text-align: right;\n",
       "    }\n",
       "</style>\n",
       "<table border=\"1\" class=\"dataframe\">\n",
       "  <thead>\n",
       "    <tr style=\"text-align: right;\">\n",
       "      <th></th>\n",
       "      <th>X1</th>\n",
       "      <th>X2</th>\n",
       "      <th>Y</th>\n",
       "    </tr>\n",
       "  </thead>\n",
       "  <tbody>\n",
       "    <tr>\n",
       "      <th>0</th>\n",
       "      <td>10.778826</td>\n",
       "      <td>12.216640</td>\n",
       "      <td>18.200932</td>\n",
       "    </tr>\n",
       "    <tr>\n",
       "      <th>1</th>\n",
       "      <td>3.624089</td>\n",
       "      <td>11.877574</td>\n",
       "      <td>12.690193</td>\n",
       "    </tr>\n",
       "    <tr>\n",
       "      <th>2</th>\n",
       "      <td>12.836600</td>\n",
       "      <td>14.840369</td>\n",
       "      <td>11.776860</td>\n",
       "    </tr>\n",
       "    <tr>\n",
       "      <th>3</th>\n",
       "      <td>2.460015</td>\n",
       "      <td>2.162700</td>\n",
       "      <td>5.050383</td>\n",
       "    </tr>\n",
       "    <tr>\n",
       "      <th>4</th>\n",
       "      <td>8.866451</td>\n",
       "      <td>15.003722</td>\n",
       "      <td>2.692526</td>\n",
       "    </tr>\n",
       "  </tbody>\n",
       "</table>\n",
       "</div>"
      ],
      "text/plain": [
       "          X1         X2          Y\n",
       "0  10.778826  12.216640  18.200932\n",
       "1   3.624089  11.877574  12.690193\n",
       "2  12.836600  14.840369  11.776860\n",
       "3   2.460015   2.162700   5.050383\n",
       "4   8.866451  15.003722   2.692526"
      ]
     },
     "execution_count": 121,
     "metadata": {},
     "output_type": "execute_result"
    }
   ],
   "source": [
    "df2=pd.DataFrame({'X1':X1,'X2':X2,'Y':Y})\n",
    "df2"
   ]
  },
  {
   "cell_type": "code",
   "execution_count": 122,
   "id": "c1985bd6",
   "metadata": {},
   "outputs": [
    {
     "data": {
      "text/plain": [
       "array([10.77882557,  3.62408879, 12.83660009,  2.46001514,  8.86645093])"
      ]
     },
     "execution_count": 122,
     "metadata": {},
     "output_type": "execute_result"
    }
   ],
   "source": [
    "X1"
   ]
  },
  {
   "cell_type": "code",
   "execution_count": 123,
   "id": "8de1b925",
   "metadata": {},
   "outputs": [
    {
     "data": {
      "text/plain": [
       "array([12.21663995, 11.8775741 , 14.84036884,  2.16269972, 15.00372213])"
      ]
     },
     "execution_count": 123,
     "metadata": {},
     "output_type": "execute_result"
    }
   ],
   "source": [
    "X2"
   ]
  },
  {
   "cell_type": "code",
   "execution_count": 124,
   "id": "c9c18c8e",
   "metadata": {},
   "outputs": [
    {
     "data": {
      "text/plain": [
       "array([18.20093229, 12.69019307, 11.77686011,  5.05038341,  2.69252571])"
      ]
     },
     "execution_count": 124,
     "metadata": {},
     "output_type": "execute_result"
    }
   ],
   "source": [
    "Y"
   ]
  },
  {
   "cell_type": "code",
   "execution_count": 125,
   "id": "3b861a15",
   "metadata": {},
   "outputs": [
    {
     "data": {
      "text/plain": [
       "array([131.68103106,  43.04538316, 190.49987998,   5.32027404,\n",
       "       133.02976602])"
      ]
     },
     "execution_count": 125,
     "metadata": {},
     "output_type": "execute_result"
    }
   ],
   "source": [
    "X1X2=X1*X2\n",
    "X1X2"
   ]
  },
  {
   "cell_type": "code",
   "execution_count": 126,
   "id": "095cd41c",
   "metadata": {},
   "outputs": [
    {
     "data": {
      "text/plain": [
       "array([116.1830807 ,  13.13401956, 164.77830183,   6.05167447,\n",
       "        78.61395208])"
      ]
     },
     "execution_count": 126,
     "metadata": {},
     "output_type": "execute_result"
    }
   ],
   "source": [
    "X1X1=X1*X1\n",
    "X1X1"
   ]
  },
  {
   "cell_type": "code",
   "execution_count": 127,
   "id": "00c173cf",
   "metadata": {},
   "outputs": [
    {
     "data": {
      "text/plain": [
       "array([149.2462916 , 141.07676658, 220.23654733,   4.67727007,\n",
       "       225.11167775])"
      ]
     },
     "execution_count": 127,
     "metadata": {},
     "output_type": "execute_result"
    }
   ],
   "source": [
    "X2X2=X2*X2\n",
    "X2X2"
   ]
  },
  {
   "cell_type": "code",
   "execution_count": 128,
   "id": "8ddf38aa",
   "metadata": {},
   "outputs": [
    {
     "data": {
      "text/plain": [
       "array([196.18467436,  45.99038646, 151.17484352,  12.42401964,\n",
       "        23.87314707])"
      ]
     },
     "execution_count": 128,
     "metadata": {},
     "output_type": "execute_result"
    }
   ],
   "source": [
    "X1Y=X1*Y\n",
    "X1Y"
   ]
  },
  {
   "cell_type": "code",
   "execution_count": 129,
   "id": "70469ccf",
   "metadata": {},
   "outputs": [
    {
     "data": {
      "text/plain": [
       "array([222.35423646, 150.7287086 , 174.77294781,  10.92246278,\n",
       "        40.39790756])"
      ]
     },
     "execution_count": 129,
     "metadata": {},
     "output_type": "execute_result"
    }
   ],
   "source": [
    "X2Y=X2*Y\n",
    "X2Y"
   ]
  },
  {
   "cell_type": "code",
   "execution_count": 130,
   "id": "a5e406ab",
   "metadata": {},
   "outputs": [
    {
     "data": {
      "text/plain": [
       "81.29405801630207"
      ]
     },
     "execution_count": 130,
     "metadata": {},
     "output_type": "execute_result"
    }
   ],
   "source": [
    "sum_x12=np.sum(X1X1)-((np.sum(X1)*np.sum(X1))/len(X1))\n",
    "sum_x12"
   ]
  },
  {
   "cell_type": "code",
   "execution_count": 131,
   "id": "146e92a2",
   "metadata": {},
   "outputs": [
    {
     "data": {
      "text/plain": [
       "110.8840067994314"
      ]
     },
     "execution_count": 131,
     "metadata": {},
     "output_type": "execute_result"
    }
   ],
   "source": [
    "sum_x22=np.sum(X2X2)-((np.sum(X2)*np.sum(X2))/len(X2))\n",
    "sum_x22"
   ]
  },
  {
   "cell_type": "code",
   "execution_count": 132,
   "id": "3593b334",
   "metadata": {},
   "outputs": [
    {
     "data": {
      "text/plain": [
       "40.81795534700814"
      ]
     },
     "execution_count": 132,
     "metadata": {},
     "output_type": "execute_result"
    }
   ],
   "source": [
    "sum_x1y=np.sum(X1Y)-((np.sum(X1)*np.sum(Y))/len(X1))\n",
    "sum_x1y"
   ]
  },
  {
   "cell_type": "code",
   "execution_count": 133,
   "id": "1d0d2247",
   "metadata": {},
   "outputs": [
    {
     "data": {
      "text/plain": [
       "33.55589595585718"
      ]
     },
     "execution_count": 133,
     "metadata": {},
     "output_type": "execute_result"
    }
   ],
   "source": [
    "sum_x2y=np.sum(X2Y)-((np.sum(X2)*np.sum(Y))/len(X2))\n",
    "sum_x2y"
   ]
  },
  {
   "cell_type": "code",
   "execution_count": 134,
   "id": "48c5d2ea",
   "metadata": {},
   "outputs": [
    {
     "data": {
      "text/plain": [
       "70.85828312784918"
      ]
     },
     "execution_count": 134,
     "metadata": {},
     "output_type": "execute_result"
    }
   ],
   "source": [
    "sum_x1x2=np.sum(X1X2)-((np.sum(X1)*np.sum(X2))/len(X2))\n",
    "sum_x1x2"
   ]
  },
  {
   "cell_type": "code",
   "execution_count": 135,
   "id": "8b4b738e",
   "metadata": {},
   "outputs": [
    {
     "data": {
      "text/plain": [
       "0.5379854783322445"
      ]
     },
     "execution_count": 135,
     "metadata": {},
     "output_type": "execute_result"
    }
   ],
   "source": [
    "b1=(((sum_x22)*(sum_x1y))-((sum_x1x2)*(sum_x2y)))/(((sum_x12)*(sum_x22))-((sum_x1x2)*(sum_x1x2)))\n",
    "b1"
   ]
  },
  {
   "cell_type": "code",
   "execution_count": 136,
   "id": "25ed8473",
   "metadata": {},
   "outputs": [
    {
     "data": {
      "text/plain": [
       "-0.04116762658782074"
      ]
     },
     "execution_count": 136,
     "metadata": {},
     "output_type": "execute_result"
    }
   ],
   "source": [
    "b2=(((sum_x12)*(sum_x2y))-((sum_x1x2)*(sum_x1y)))/(((sum_x12)*(sum_x22))-((sum_x1x2)*(sum_x1x2)))\n",
    "b2"
   ]
  },
  {
   "cell_type": "code",
   "execution_count": 137,
   "id": "b39ad720",
   "metadata": {},
   "outputs": [
    {
     "data": {
      "text/plain": [
       "6.39450046594259"
      ]
     },
     "execution_count": 137,
     "metadata": {},
     "output_type": "execute_result"
    }
   ],
   "source": [
    "a=np.mean(Y)-(b1*(np.mean(X1)))-(b2*(np.mean(X2)))\n",
    "a"
   ]
  },
  {
   "cell_type": "code",
   "execution_count": 138,
   "id": "d78c4525",
   "metadata": {},
   "outputs": [
    {
     "data": {
      "text/plain": [
       "array([11.69042203,  7.85523607, 12.68946214,  7.62891967, 10.54685468])"
      ]
     },
     "execution_count": 138,
     "metadata": {},
     "output_type": "execute_result"
    }
   ],
   "source": [
    "#Equation\n",
    "y=a+(b1*X1)+(b2*X2)\n",
    "y"
   ]
  },
  {
   "cell_type": "code",
   "execution_count": 139,
   "id": "41635a8e",
   "metadata": {},
   "outputs": [
    {
     "data": {
      "text/plain": [
       "7.926121647763682"
      ]
     },
     "execution_count": 139,
     "metadata": {},
     "output_type": "execute_result"
    }
   ],
   "source": [
    "# Manual Method Prediction\n",
    "x1=3\n",
    "x2=2\n",
    "Y=a+(b1*x1)+(b2*x2)\n",
    "Y"
   ]
  },
  {
   "cell_type": "code",
   "execution_count": 140,
   "id": "75cd97cf",
   "metadata": {},
   "outputs": [
    {
     "data": {
      "image/png": "[encoded data removed]",
      "text/plain": [
       "<Figure size 640x480 with 1 Axes>"
      ]
     },
     "metadata": {},
     "output_type": "display_data"
    }
   ],
   "source": [
    "sns.scatterplot(df2)\n",
    "plt.show()"
   ]
  },
  {
   "cell_type": "code",
   "execution_count": 141,
   "id": "fb19b085",
   "metadata": {},
   "outputs": [
    {
     "name": "stderr",
     "output_type": "stream",
     "text": [
      "C:\\Users\\rrban\\AppData\\Roaming\\Python\\Python311\\site-packages\\seaborn\\axisgrid.py:123: UserWarning: The figure layout has changed to tight\n",
      "  self._figure.tight_layout(*args, **kwargs)\n"
     ]
    },
    {
     "data": {
      "image/png": "[encoded data removed]",
      "text/plain": [
       "<Figure size 750x750 with 12 Axes>"
      ]
     },
     "metadata": {},
     "output_type": "display_data"
    }
   ],
   "source": [
    "sns.pairplot(df2, kind='reg')\n",
    "plt.show()"
   ]
  },
  {
   "cell_type": "code",
   "execution_count": null,
   "id": "71380c89",
   "metadata": {},
   "outputs": [],
   "source": []
  }
 ],
 "metadata": {
  "kernelspec": {
   "display_name": "Python 3 (ipykernel)",
   "language": "python",
   "name": "python3"
  },
  "language_info": {
   "codemirror_mode": {
    "name": "ipython",
    "version": 3
   },
   "file_extension": ".py",
   "mimetype": "text/x-python",
   "name": "python",
   "nbconvert_exporter": "python",
   "pygments_lexer": "ipython3",
   "version": "3.11.5"
  }
 },
 "nbformat": 4,
 "nbformat_minor": 5
}
