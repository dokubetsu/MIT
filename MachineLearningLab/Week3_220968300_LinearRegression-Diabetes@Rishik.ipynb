{
 "cells": [
  {
   "cell_type": "markdown",
   "id": "80345641",
   "metadata": {},
   "source": [
    "# Rishik Reddy Bandi\n",
    "# 220968300\n",
    "# Week3 LinearRgression Diabetes"
   ]
  },
  {
   "cell_type": "code",
   "execution_count": 78,
   "id": "7065867c-23db-4b25-b9ce-3a11de6abe8c",
   "metadata": {},
   "outputs": [],
   "source": [
    "import pandas as pd\n",
    "import numpy as np\n",
    "import matplotlib.pyplot as plt\n",
    "from sklearn.model_selection import train_test_split\n",
    "from sklearn.linear_model import LinearRegression\n",
    "from sklearn import metrics"
   ]
  },
  {
   "cell_type": "code",
   "execution_count": 79,
   "id": "ca26ad89-275d-422a-bbef-685b5ba84b5d",
   "metadata": {},
   "outputs": [],
   "source": [
    "df = pd.read_csv('diabetes.csv')"
   ]
  },
  {
   "cell_type": "code",
   "execution_count": 80,
   "id": "7d45cbda-8220-4f1b-bfc4-5b2535cabf07",
   "metadata": {
    "scrolled": true
   },
   "outputs": [
    {
     "data": {
      "text/html": [
       "<div>\n",
       "<style scoped>\n",
       "    .dataframe tbody tr th:only-of-type {\n",
       "        vertical-align: middle;\n",
       "    }\n",
       "\n",
       "    .dataframe tbody tr th {\n",
       "        vertical-align: top;\n",
       "    }\n",
       "\n",
       "    .dataframe thead th {\n",
       "        text-align: right;\n",
       "    }\n",
       "</style>\n",
       "<table border=\"1\" class=\"dataframe\">\n",
       "  <thead>\n",
       "    <tr style=\"text-align: right;\">\n",
       "      <th></th>\n",
       "      <th>Pregnancies</th>\n",
       "      <th>Glucose</th>\n",
       "      <th>BloodPressure</th>\n",
       "      <th>SkinThickness</th>\n",
       "      <th>Insulin</th>\n",
       "      <th>BMI</th>\n",
       "      <th>DiabetesPedigreeFunction</th>\n",
       "      <th>Age</th>\n",
       "      <th>Outcome</th>\n",
       "    </tr>\n",
       "  </thead>\n",
       "  <tbody>\n",
       "    <tr>\n",
       "      <th>0</th>\n",
       "      <td>6</td>\n",
       "      <td>148</td>\n",
       "      <td>72</td>\n",
       "      <td>35</td>\n",
       "      <td>0</td>\n",
       "      <td>33.6</td>\n",
       "      <td>0.627</td>\n",
       "      <td>50</td>\n",
       "      <td>1</td>\n",
       "    </tr>\n",
       "    <tr>\n",
       "      <th>1</th>\n",
       "      <td>1</td>\n",
       "      <td>85</td>\n",
       "      <td>66</td>\n",
       "      <td>29</td>\n",
       "      <td>0</td>\n",
       "      <td>26.6</td>\n",
       "      <td>0.351</td>\n",
       "      <td>31</td>\n",
       "      <td>0</td>\n",
       "    </tr>\n",
       "    <tr>\n",
       "      <th>2</th>\n",
       "      <td>8</td>\n",
       "      <td>183</td>\n",
       "      <td>64</td>\n",
       "      <td>0</td>\n",
       "      <td>0</td>\n",
       "      <td>23.3</td>\n",
       "      <td>0.672</td>\n",
       "      <td>32</td>\n",
       "      <td>1</td>\n",
       "    </tr>\n",
       "    <tr>\n",
       "      <th>3</th>\n",
       "      <td>1</td>\n",
       "      <td>89</td>\n",
       "      <td>66</td>\n",
       "      <td>23</td>\n",
       "      <td>94</td>\n",
       "      <td>28.1</td>\n",
       "      <td>0.167</td>\n",
       "      <td>21</td>\n",
       "      <td>0</td>\n",
       "    </tr>\n",
       "    <tr>\n",
       "      <th>4</th>\n",
       "      <td>0</td>\n",
       "      <td>137</td>\n",
       "      <td>40</td>\n",
       "      <td>35</td>\n",
       "      <td>168</td>\n",
       "      <td>43.1</td>\n",
       "      <td>2.288</td>\n",
       "      <td>33</td>\n",
       "      <td>1</td>\n",
       "    </tr>\n",
       "    <tr>\n",
       "      <th>...</th>\n",
       "      <td>...</td>\n",
       "      <td>...</td>\n",
       "      <td>...</td>\n",
       "      <td>...</td>\n",
       "      <td>...</td>\n",
       "      <td>...</td>\n",
       "      <td>...</td>\n",
       "      <td>...</td>\n",
       "      <td>...</td>\n",
       "    </tr>\n",
       "    <tr>\n",
       "      <th>763</th>\n",
       "      <td>10</td>\n",
       "      <td>101</td>\n",
       "      <td>76</td>\n",
       "      <td>48</td>\n",
       "      <td>180</td>\n",
       "      <td>32.9</td>\n",
       "      <td>0.171</td>\n",
       "      <td>63</td>\n",
       "      <td>0</td>\n",
       "    </tr>\n",
       "    <tr>\n",
       "      <th>764</th>\n",
       "      <td>2</td>\n",
       "      <td>122</td>\n",
       "      <td>70</td>\n",
       "      <td>27</td>\n",
       "      <td>0</td>\n",
       "      <td>36.8</td>\n",
       "      <td>0.340</td>\n",
       "      <td>27</td>\n",
       "      <td>0</td>\n",
       "    </tr>\n",
       "    <tr>\n",
       "      <th>765</th>\n",
       "      <td>5</td>\n",
       "      <td>121</td>\n",
       "      <td>72</td>\n",
       "      <td>23</td>\n",
       "      <td>112</td>\n",
       "      <td>26.2</td>\n",
       "      <td>0.245</td>\n",
       "      <td>30</td>\n",
       "      <td>0</td>\n",
       "    </tr>\n",
       "    <tr>\n",
       "      <th>766</th>\n",
       "      <td>1</td>\n",
       "      <td>126</td>\n",
       "      <td>60</td>\n",
       "      <td>0</td>\n",
       "      <td>0</td>\n",
       "      <td>30.1</td>\n",
       "      <td>0.349</td>\n",
       "      <td>47</td>\n",
       "      <td>1</td>\n",
       "    </tr>\n",
       "    <tr>\n",
       "      <th>767</th>\n",
       "      <td>1</td>\n",
       "      <td>93</td>\n",
       "      <td>70</td>\n",
       "      <td>31</td>\n",
       "      <td>0</td>\n",
       "      <td>30.4</td>\n",
       "      <td>0.315</td>\n",
       "      <td>23</td>\n",
       "      <td>0</td>\n",
       "    </tr>\n",
       "  </tbody>\n",
       "</table>\n",
       "<p>768 rows × 9 columns</p>\n",
       "</div>"
      ],
      "text/plain": [
       "     Pregnancies  Glucose  BloodPressure  SkinThickness  Insulin   BMI  \\\n",
       "0              6      148             72             35        0  33.6   \n",
       "1              1       85             66             29        0  26.6   \n",
       "2              8      183             64              0        0  23.3   \n",
       "3              1       89             66             23       94  28.1   \n",
       "4              0      137             40             35      168  43.1   \n",
       "..           ...      ...            ...            ...      ...   ...   \n",
       "763           10      101             76             48      180  32.9   \n",
       "764            2      122             70             27        0  36.8   \n",
       "765            5      121             72             23      112  26.2   \n",
       "766            1      126             60              0        0  30.1   \n",
       "767            1       93             70             31        0  30.4   \n",
       "\n",
       "     DiabetesPedigreeFunction  Age  Outcome  \n",
       "0                       0.627   50        1  \n",
       "1                       0.351   31        0  \n",
       "2                       0.672   32        1  \n",
       "3                       0.167   21        0  \n",
       "4                       2.288   33        1  \n",
       "..                        ...  ...      ...  \n",
       "763                     0.171   63        0  \n",
       "764                     0.340   27        0  \n",
       "765                     0.245   30        0  \n",
       "766                     0.349   47        1  \n",
       "767                     0.315   23        0  \n",
       "\n",
       "[768 rows x 9 columns]"
      ]
     },
     "execution_count": 80,
     "metadata": {},
     "output_type": "execute_result"
    }
   ],
   "source": [
    "df"
   ]
  },
  {
   "cell_type": "code",
   "execution_count": 81,
   "id": "bf816222",
   "metadata": {},
   "outputs": [
    {
     "data": {
      "text/plain": [
       "0.12945867149927245"
      ]
     },
     "execution_count": 81,
     "metadata": {},
     "output_type": "execute_result"
    }
   ],
   "source": [
    "df['Glucose'].corr(df['Pregnancies'])"
   ]
  },
  {
   "cell_type": "code",
   "execution_count": 82,
   "id": "d4155f54-8fbe-449d-9373-447fbbbb539f",
   "metadata": {},
   "outputs": [
    {
     "data": {
      "text/plain": [
       "(768, 9)"
      ]
     },
     "execution_count": 82,
     "metadata": {},
     "output_type": "execute_result"
    }
   ],
   "source": [
    "df.shape"
   ]
  },
  {
   "cell_type": "code",
   "execution_count": 83,
   "id": "79108770",
   "metadata": {},
   "outputs": [],
   "source": [
    "x = df.loc[:,['Pregnancies']]\n",
    "y = df.loc[:,['Glucose']]"
   ]
  },
  {
   "cell_type": "code",
   "execution_count": 84,
   "id": "65ace9a9",
   "metadata": {},
   "outputs": [
    {
     "data": {
      "image/png": "[encoded data removed]",
      "text/plain": [
       "<Figure size 640x480 with 1 Axes>"
      ]
     },
     "metadata": {},
     "output_type": "display_data"
    }
   ],
   "source": [
    "plt.title(\"Scatter diagram\")\n",
    "plt.scatter(x,y)\n",
    "plt.ylabel('Glucose')\n",
    "plt.xlabel('Pregnancies')\n",
    "plt.show()"
   ]
  },
  {
   "cell_type": "code",
   "execution_count": 85,
   "id": "60326a5a-196f-4a18-b234-08a945c0bf62",
   "metadata": {},
   "outputs": [],
   "source": [
    "x_train, x_test, y_train, y_test = train_test_split(x, y, test_size=0.3, random_state=42)"
   ]
  },
  {
   "cell_type": "code",
   "execution_count": 86,
   "id": "4c518117-85ef-499c-b9ef-415adb13a17d",
   "metadata": {},
   "outputs": [
    {
     "data": {
      "text/plain": [
       "(537, 1)"
      ]
     },
     "execution_count": 86,
     "metadata": {},
     "output_type": "execute_result"
    }
   ],
   "source": [
    "x_train.shape"
   ]
  },
  {
   "cell_type": "code",
   "execution_count": 87,
   "id": "64db70e4-91e1-4aaa-bba0-0992bc0f8ed3",
   "metadata": {},
   "outputs": [
    {
     "data": {
      "text/plain": [
       "(231, 1)"
      ]
     },
     "execution_count": 87,
     "metadata": {},
     "output_type": "execute_result"
    }
   ],
   "source": [
    "x_test.shape"
   ]
  },
  {
   "cell_type": "code",
   "execution_count": 88,
   "id": "73805166-0103-4cd0-ac1d-57a1bb40f7d1",
   "metadata": {},
   "outputs": [
    {
     "data": {
      "text/plain": [
       "(537, 1)"
      ]
     },
     "execution_count": 88,
     "metadata": {},
     "output_type": "execute_result"
    }
   ],
   "source": [
    "y_train.shape"
   ]
  },
  {
   "cell_type": "code",
   "execution_count": 89,
   "id": "49b28461-5d0a-4f7d-bf79-2b4d3ab41136",
   "metadata": {},
   "outputs": [
    {
     "data": {
      "text/plain": [
       "(231, 1)"
      ]
     },
     "execution_count": 89,
     "metadata": {},
     "output_type": "execute_result"
    }
   ],
   "source": [
    "y_test.shape"
   ]
  },
  {
   "cell_type": "code",
   "execution_count": 90,
   "id": "d00aca4e-a662-4f07-a786-1283978861ae",
   "metadata": {},
   "outputs": [
    {
     "data": {
      "image/png": "[encoded data removed]",
      "text/plain": [
       "<Figure size 640x480 with 1 Axes>"
      ]
     },
     "metadata": {},
     "output_type": "display_data"
    }
   ],
   "source": [
    "plt.title(\"Scatter diagram\")\n",
    "plt.scatter(x_train,y_train)\n",
    "plt.ylabel('Glucose')\n",
    "plt.xlabel('Pregnancies')\n",
    "plt.show()"
   ]
  },
  {
   "cell_type": "code",
   "execution_count": 91,
   "id": "fe19c119-2665-4012-bb5c-3e4b4b20182b",
   "metadata": {},
   "outputs": [
    {
     "data": {
      "text/html": [
       "<style>#sk-container-id-5 {color: black;}#sk-container-id-5 pre{padding: 0;}#sk-container-id-5 div.sk-toggleable {background-color: white;}#sk-container-id-5 label.sk-toggleable__label {cursor: pointer;display: block;width: 100%;margin-bottom: 0;padding: 0.3em;box-sizing: border-box;text-align: center;}#sk-container-id-5 label.sk-toggleable__label-arrow:before {content: \"▸\";float: left;margin-right: 0.25em;color: #696969;}#sk-container-id-5 label.sk-toggleable__label-arrow:hover:before {color: black;}#sk-container-id-5 div.sk-estimator:hover label.sk-toggleable__label-arrow:before {color: black;}#sk-container-id-5 div.sk-toggleable__content {max-height: 0;max-width: 0;overflow: hidden;text-align: left;background-color: #f0f8ff;}#sk-container-id-5 div.sk-toggleable__content pre {margin: 0.2em;color: black;border-radius: 0.25em;background-color: #f0f8ff;}#sk-container-id-5 input.sk-toggleable__control:checked~div.sk-toggleable__content {max-height: 200px;max-width: 100%;overflow: auto;}#sk-container-id-5 input.sk-toggleable__control:checked~label.sk-toggleable__label-arrow:before {content: \"▾\";}#sk-container-id-5 div.sk-estimator input.sk-toggleable__control:checked~label.sk-toggleable__label {background-color: #d4ebff;}#sk-container-id-5 div.sk-label input.sk-toggleable__control:checked~label.sk-toggleable__label {background-color: #d4ebff;}#sk-container-id-5 input.sk-hidden--visually {border: 0;clip: rect(1px 1px 1px 1px);clip: rect(1px, 1px, 1px, 1px);height: 1px;margin: -1px;overflow: hidden;padding: 0;position: absolute;width: 1px;}#sk-container-id-5 div.sk-estimator {font-family: monospace;background-color: #f0f8ff;border: 1px dotted black;border-radius: 0.25em;box-sizing: border-box;margin-bottom: 0.5em;}#sk-container-id-5 div.sk-estimator:hover {background-color: #d4ebff;}#sk-container-id-5 div.sk-parallel-item::after {content: \"\";width: 100%;border-bottom: 1px solid gray;flex-grow: 1;}#sk-container-id-5 div.sk-label:hover label.sk-toggleable__label {background-color: #d4ebff;}#sk-container-id-5 div.sk-serial::before {content: \"\";position: absolute;border-left: 1px solid gray;box-sizing: border-box;top: 0;bottom: 0;left: 50%;z-index: 0;}#sk-container-id-5 div.sk-serial {display: flex;flex-direction: column;align-items: center;background-color: white;padding-right: 0.2em;padding-left: 0.2em;position: relative;}#sk-container-id-5 div.sk-item {position: relative;z-index: 1;}#sk-container-id-5 div.sk-parallel {display: flex;align-items: stretch;justify-content: center;background-color: white;position: relative;}#sk-container-id-5 div.sk-item::before, #sk-container-id-5 div.sk-parallel-item::before {content: \"\";position: absolute;border-left: 1px solid gray;box-sizing: border-box;top: 0;bottom: 0;left: 50%;z-index: -1;}#sk-container-id-5 div.sk-parallel-item {display: flex;flex-direction: column;z-index: 1;position: relative;background-color: white;}#sk-container-id-5 div.sk-parallel-item:first-child::after {align-self: flex-end;width: 50%;}#sk-container-id-5 div.sk-parallel-item:last-child::after {align-self: flex-start;width: 50%;}#sk-container-id-5 div.sk-parallel-item:only-child::after {width: 0;}#sk-container-id-5 div.sk-dashed-wrapped {border: 1px dashed gray;margin: 0 0.4em 0.5em 0.4em;box-sizing: border-box;padding-bottom: 0.4em;background-color: white;}#sk-container-id-5 div.sk-label label {font-family: monospace;font-weight: bold;display: inline-block;line-height: 1.2em;}#sk-container-id-5 div.sk-label-container {text-align: center;}#sk-container-id-5 div.sk-container {/* jupyter's `normalize.less` sets `[hidden] { display: none; }` but bootstrap.min.css set `[hidden] { display: none !important; }` so we also need the `!important` here to be able to override the default hidden behavior on the sphinx rendered scikit-learn.org. See: https://github.com/scikit-learn/scikit-learn/issues/21755 */display: inline-block !important;position: relative;}#sk-container-id-5 div.sk-text-repr-fallback {display: none;}</style><div id=\"sk-container-id-5\" class=\"sk-top-container\"><div class=\"sk-text-repr-fallback\"><pre>LinearRegression()</pre><b>In a Jupyter environment, please rerun this cell to show the HTML representation or trust the notebook. <br />On GitHub, the HTML representation is unable to render, please try loading this page with nbviewer.org.</b></div><div class=\"sk-container\" hidden><div class=\"sk-item\"><div class=\"sk-estimator sk-toggleable\"><input class=\"sk-toggleable__control sk-hidden--visually\" id=\"sk-estimator-id-5\" type=\"checkbox\" checked><label for=\"sk-estimator-id-5\" class=\"sk-toggleable__label sk-toggleable__label-arrow\">LinearRegression</label><div class=\"sk-toggleable__content\"><pre>LinearRegression()</pre></div></div></div></div></div>"
      ],
      "text/plain": [
       "LinearRegression()"
      ]
     },
     "execution_count": 91,
     "metadata": {},
     "output_type": "execute_result"
    }
   ],
   "source": [
    "model=LinearRegression()\n",
    "model.fit(x_train,y_train)"
   ]
  },
  {
   "cell_type": "code",
   "execution_count": 92,
   "id": "dd5658c0-779d-4ada-a2b9-02c385d8fa84",
   "metadata": {},
   "outputs": [
    {
     "data": {
      "text/plain": [
       "array([[1.37080009]])"
      ]
     },
     "execution_count": 92,
     "metadata": {},
     "output_type": "execute_result"
    }
   ],
   "source": [
    "model.coef_"
   ]
  },
  {
   "cell_type": "code",
   "execution_count": 93,
   "id": "ce7115fa-5f65-4043-9301-51177495cbb8",
   "metadata": {},
   "outputs": [
    {
     "data": {
      "text/plain": [
       "array([115.7412086])"
      ]
     },
     "execution_count": 93,
     "metadata": {},
     "output_type": "execute_result"
    }
   ],
   "source": [
    "model.intercept_"
   ]
  },
  {
   "cell_type": "code",
   "execution_count": 94,
   "id": "53540df1-dcc1-4ce4-9f5c-4a6b37b69e3a",
   "metadata": {},
   "outputs": [
    {
     "data": {
      "text/plain": [
       "array([[123.96600914],\n",
       "       [118.48280878],\n",
       "       [118.48280878],\n",
       "       [126.70760932],\n",
       "       [125.33680923],\n",
       "       [123.96600914],\n",
       "       [117.11200869],\n",
       "       [115.7412086 ],\n",
       "       [121.22440896],\n",
       "       [122.59520905],\n",
       "       [129.4492095 ],\n",
       "       [125.33680923],\n",
       "       [121.22440896],\n",
       "       [122.59520905],\n",
       "       [118.48280878],\n",
       "       [117.11200869],\n",
       "       [119.85360887],\n",
       "       [122.59520905],\n",
       "       [121.22440896],\n",
       "       [115.7412086 ],\n",
       "       [122.59520905],\n",
       "       [117.11200869],\n",
       "       [133.56160977],\n",
       "       [117.11200869],\n",
       "       [129.4492095 ],\n",
       "       [125.33680923],\n",
       "       [123.96600914],\n",
       "       [117.11200869],\n",
       "       [118.48280878],\n",
       "       [119.85360887],\n",
       "       [115.7412086 ],\n",
       "       [121.22440896],\n",
       "       [121.22440896],\n",
       "       [115.7412086 ],\n",
       "       [118.48280878],\n",
       "       [128.07840941],\n",
       "       [118.48280878],\n",
       "       [115.7412086 ],\n",
       "       [132.19080968],\n",
       "       [115.7412086 ],\n",
       "       [121.22440896],\n",
       "       [117.11200869],\n",
       "       [122.59520905],\n",
       "       [133.56160977],\n",
       "       [123.96600914],\n",
       "       [119.85360887],\n",
       "       [121.22440896],\n",
       "       [122.59520905],\n",
       "       [126.70760932],\n",
       "       [115.7412086 ],\n",
       "       [121.22440896],\n",
       "       [128.07840941],\n",
       "       [132.19080968],\n",
       "       [118.48280878],\n",
       "       [115.7412086 ],\n",
       "       [119.85360887],\n",
       "       [122.59520905],\n",
       "       [119.85360887],\n",
       "       [118.48280878],\n",
       "       [122.59520905],\n",
       "       [126.70760932],\n",
       "       [118.48280878],\n",
       "       [123.96600914],\n",
       "       [132.19080968],\n",
       "       [115.7412086 ],\n",
       "       [115.7412086 ],\n",
       "       [118.48280878],\n",
       "       [122.59520905],\n",
       "       [115.7412086 ],\n",
       "       [117.11200869],\n",
       "       [125.33680923],\n",
       "       [121.22440896],\n",
       "       [128.07840941],\n",
       "       [115.7412086 ],\n",
       "       [123.96600914],\n",
       "       [122.59520905],\n",
       "       [118.48280878],\n",
       "       [119.85360887],\n",
       "       [115.7412086 ],\n",
       "       [121.22440896],\n",
       "       [125.33680923],\n",
       "       [115.7412086 ],\n",
       "       [118.48280878],\n",
       "       [115.7412086 ],\n",
       "       [115.7412086 ],\n",
       "       [119.85360887],\n",
       "       [125.33680923],\n",
       "       [118.48280878],\n",
       "       [122.59520905],\n",
       "       [118.48280878],\n",
       "       [115.7412086 ],\n",
       "       [121.22440896],\n",
       "       [118.48280878],\n",
       "       [126.70760932],\n",
       "       [118.48280878],\n",
       "       [117.11200869],\n",
       "       [128.07840941],\n",
       "       [118.48280878],\n",
       "       [115.7412086 ],\n",
       "       [125.33680923],\n",
       "       [117.11200869],\n",
       "       [115.7412086 ],\n",
       "       [133.56160977],\n",
       "       [118.48280878],\n",
       "       [121.22440896],\n",
       "       [118.48280878],\n",
       "       [118.48280878],\n",
       "       [119.85360887],\n",
       "       [119.85360887],\n",
       "       [125.33680923],\n",
       "       [121.22440896],\n",
       "       [118.48280878],\n",
       "       [125.33680923],\n",
       "       [126.70760932],\n",
       "       [117.11200869],\n",
       "       [117.11200869],\n",
       "       [119.85360887],\n",
       "       [121.22440896],\n",
       "       [118.48280878],\n",
       "       [129.4492095 ],\n",
       "       [117.11200869],\n",
       "       [118.48280878],\n",
       "       [128.07840941],\n",
       "       [117.11200869],\n",
       "       [117.11200869],\n",
       "       [129.4492095 ],\n",
       "       [129.4492095 ],\n",
       "       [130.82000959],\n",
       "       [130.82000959],\n",
       "       [121.22440896],\n",
       "       [126.70760932],\n",
       "       [132.19080968],\n",
       "       [117.11200869],\n",
       "       [130.82000959],\n",
       "       [117.11200869],\n",
       "       [119.85360887],\n",
       "       [126.70760932],\n",
       "       [133.56160977],\n",
       "       [125.33680923],\n",
       "       [118.48280878],\n",
       "       [118.48280878],\n",
       "       [118.48280878],\n",
       "       [118.48280878],\n",
       "       [117.11200869],\n",
       "       [115.7412086 ],\n",
       "       [126.70760932],\n",
       "       [122.59520905],\n",
       "       [117.11200869],\n",
       "       [121.22440896],\n",
       "       [128.07840941],\n",
       "       [117.11200869],\n",
       "       [126.70760932],\n",
       "       [118.48280878],\n",
       "       [126.70760932],\n",
       "       [118.48280878],\n",
       "       [128.07840941],\n",
       "       [117.11200869],\n",
       "       [115.7412086 ],\n",
       "       [123.96600914],\n",
       "       [117.11200869],\n",
       "       [121.22440896],\n",
       "       [129.4492095 ],\n",
       "       [117.11200869],\n",
       "       [117.11200869],\n",
       "       [117.11200869],\n",
       "       [121.22440896],\n",
       "       [118.48280878],\n",
       "       [121.22440896],\n",
       "       [119.85360887],\n",
       "       [128.07840941],\n",
       "       [125.33680923],\n",
       "       [118.48280878],\n",
       "       [121.22440896],\n",
       "       [119.85360887],\n",
       "       [122.59520905],\n",
       "       [115.7412086 ],\n",
       "       [118.48280878],\n",
       "       [132.19080968],\n",
       "       [123.96600914],\n",
       "       [115.7412086 ],\n",
       "       [133.56160977],\n",
       "       [115.7412086 ],\n",
       "       [126.70760932],\n",
       "       [117.11200869],\n",
       "       [118.48280878],\n",
       "       [115.7412086 ],\n",
       "       [117.11200869],\n",
       "       [117.11200869],\n",
       "       [123.96600914],\n",
       "       [123.96600914],\n",
       "       [119.85360887],\n",
       "       [119.85360887],\n",
       "       [133.56160977],\n",
       "       [121.22440896],\n",
       "       [119.85360887],\n",
       "       [118.48280878],\n",
       "       [115.7412086 ],\n",
       "       [119.85360887],\n",
       "       [115.7412086 ],\n",
       "       [119.85360887],\n",
       "       [130.82000959],\n",
       "       [115.7412086 ],\n",
       "       [122.59520905],\n",
       "       [118.48280878],\n",
       "       [125.33680923],\n",
       "       [118.48280878],\n",
       "       [119.85360887],\n",
       "       [115.7412086 ],\n",
       "       [125.33680923],\n",
       "       [133.56160977],\n",
       "       [118.48280878],\n",
       "       [117.11200869],\n",
       "       [119.85360887],\n",
       "       [115.7412086 ],\n",
       "       [130.82000959],\n",
       "       [115.7412086 ],\n",
       "       [115.7412086 ],\n",
       "       [126.70760932],\n",
       "       [121.22440896],\n",
       "       [129.4492095 ],\n",
       "       [119.85360887],\n",
       "       [125.33680923],\n",
       "       [117.11200869],\n",
       "       [115.7412086 ],\n",
       "       [128.07840941],\n",
       "       [118.48280878],\n",
       "       [115.7412086 ],\n",
       "       [121.22440896],\n",
       "       [115.7412086 ],\n",
       "       [123.96600914],\n",
       "       [122.59520905]])"
      ]
     },
     "execution_count": 94,
     "metadata": {},
     "output_type": "execute_result"
    }
   ],
   "source": [
    "y_pred = model.predict(x_test)\n",
    "y_pred"
   ]
  },
  {
   "cell_type": "code",
   "execution_count": 95,
   "id": "c7cb85d3-e397-48b1-9be0-f13a94cf344b",
   "metadata": {},
   "outputs": [
    {
     "data": {
      "image/png": "[encoded data removed]",
      "text/plain": [
       "<Figure size 640x480 with 1 Axes>"
      ]
     },
     "metadata": {},
     "output_type": "display_data"
    }
   ],
   "source": [
    "plt.title(\"Scatter diagram\")\n",
    "plt.scatter(x_test,y_test)\n",
    "plt.plot(x_test, y_pred, color='red')\n",
    "plt.xlabel('Pregnancies')\n",
    "plt.ylabel('Glucose')\n",
    "plt.title('Linear Regression')\n",
    "plt.show()"
   ]
  },
  {
   "cell_type": "code",
   "execution_count": 96,
   "id": "13a8e2f8",
   "metadata": {},
   "outputs": [
    {
     "name": "stdout",
     "output_type": "stream",
     "text": [
      "Mean Absolute Error: 25.96436966393991\n",
      "Mean Squared Error: 957.8436017951481\n",
      "Root Mean Squared Error: 30.949048479640663\n"
     ]
    }
   ],
   "source": [
    "print('Mean Absolute Error:', metrics.mean_absolute_error(y_test, y_pred))\n",
    "print('Mean Squared Error:', metrics.mean_squared_error(y_test, y_pred))\n",
    "print('Root Mean Squared Error:', np.sqrt(metrics.mean_squared_error(y_test, y_pred)))"
   ]
  },
  {
   "cell_type": "code",
   "execution_count": null,
   "id": "392dec00",
   "metadata": {},
   "outputs": [],
   "source": []
  },
  {
   "cell_type": "code",
   "execution_count": null,
   "id": "fdf970e8",
   "metadata": {},
   "outputs": [],
   "source": []
  }
 ],
 "metadata": {
  "kernelspec": {
   "display_name": "Python 3 (ipykernel)",
   "language": "python",
   "name": "python3"
  },
  "language_info": {
   "codemirror_mode": {
    "name": "ipython",
    "version": 3
   },
   "file_extension": ".py",
   "mimetype": "text/x-python",
   "name": "python",
   "nbconvert_exporter": "python",
   "pygments_lexer": "ipython3",
   "version": "3.11.5"
  }
 },
 "nbformat": 4,
 "nbformat_minor": 5
}
